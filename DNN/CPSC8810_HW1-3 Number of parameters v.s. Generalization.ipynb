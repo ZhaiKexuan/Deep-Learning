{
 "cells": [
  {
   "cell_type": "markdown",
   "metadata": {},
   "source": [
    "# CPSC8810_HW1-3 Number of parameters v.s. Generalization"
   ]
  },
  {
   "cell_type": "code",
   "execution_count": 1,
   "metadata": {},
   "outputs": [],
   "source": [
    "import tensorflow as tf\n",
    "import cv2\n",
    "from tensorflow.examples.tutorials.mnist import input_data\n",
    "from sklearn.decomposition import PCA\n",
    "\n",
    "tf.__version__\n",
    "import numpy as np\n",
    "%matplotlib inline\n",
    "import matplotlib.pyplot as plt"
   ]
  },
  {
   "cell_type": "code",
   "execution_count": 2,
   "metadata": {},
   "outputs": [
    {
     "name": "stdout",
     "output_type": "stream",
     "text": [
      "WARNING:tensorflow:From <ipython-input-2-622b25771082>:1: read_data_sets (from tensorflow.contrib.learn.python.learn.datasets.mnist) is deprecated and will be removed in a future version.\n",
      "Instructions for updating:\n",
      "Please use alternatives such as official/mnist/dataset.py from tensorflow/models.\n",
      "WARNING:tensorflow:From /home/kzhai/.conda/envs/tensorflow/lib/python3.6/site-packages/tensorflow_core/contrib/learn/python/learn/datasets/mnist.py:260: maybe_download (from tensorflow.contrib.learn.python.learn.datasets.base) is deprecated and will be removed in a future version.\n",
      "Instructions for updating:\n",
      "Please write your own downloading logic.\n",
      "WARNING:tensorflow:From /home/kzhai/.conda/envs/tensorflow/lib/python3.6/site-packages/tensorflow_core/contrib/learn/python/learn/datasets/mnist.py:262: extract_images (from tensorflow.contrib.learn.python.learn.datasets.mnist) is deprecated and will be removed in a future version.\n",
      "Instructions for updating:\n",
      "Please use tf.data to implement this functionality.\n",
      "Extracting data/MNIST/train-images-idx3-ubyte.gz\n",
      "WARNING:tensorflow:From /home/kzhai/.conda/envs/tensorflow/lib/python3.6/site-packages/tensorflow_core/contrib/learn/python/learn/datasets/mnist.py:267: extract_labels (from tensorflow.contrib.learn.python.learn.datasets.mnist) is deprecated and will be removed in a future version.\n",
      "Instructions for updating:\n",
      "Please use tf.data to implement this functionality.\n",
      "Extracting data/MNIST/train-labels-idx1-ubyte.gz\n",
      "WARNING:tensorflow:From /home/kzhai/.conda/envs/tensorflow/lib/python3.6/site-packages/tensorflow_core/contrib/learn/python/learn/datasets/mnist.py:110: dense_to_one_hot (from tensorflow.contrib.learn.python.learn.datasets.mnist) is deprecated and will be removed in a future version.\n",
      "Instructions for updating:\n",
      "Please use tf.one_hot on tensors.\n",
      "Extracting data/MNIST/t10k-images-idx3-ubyte.gz\n",
      "Extracting data/MNIST/t10k-labels-idx1-ubyte.gz\n",
      "WARNING:tensorflow:From /home/kzhai/.conda/envs/tensorflow/lib/python3.6/site-packages/tensorflow_core/contrib/learn/python/learn/datasets/mnist.py:290: DataSet.__init__ (from tensorflow.contrib.learn.python.learn.datasets.mnist) is deprecated and will be removed in a future version.\n",
      "Instructions for updating:\n",
      "Please use alternatives such as official/mnist/dataset.py from tensorflow/models.\n",
      "Training Dataset Size: 55000\n",
      "Validation Dataset Size: 5000\n",
      "Testing Dataset Size: 10000\n"
     ]
    }
   ],
   "source": [
    "data = input_data.read_data_sets('data/MNIST/', one_hot=True);\n",
    "\n",
    "train_num = data.train.num_examples\n",
    "valid_num = data.validation.num_examples\n",
    "test_num = data.test.num_examples\n",
    "img_flatten = 784\n",
    "img_size = 28\n",
    "num_classes = 10\n",
    "print(\"Training Dataset Size:\",train_num)\n",
    "print(\"Validation Dataset Size:\",valid_num)\n",
    "print(\"Testing Dataset Size:\",test_num)"
   ]
  },
  {
   "cell_type": "code",
   "execution_count": 3,
   "metadata": {},
   "outputs": [],
   "source": [
    "def parameter_count():\n",
    "    total_parameters = 0\n",
    "    for variable in tf.trainable_variables():\n",
    "        #print(variable)\n",
    "        shape = variable.get_shape()\n",
    "        variable_parameters = 1\n",
    "        for dim in shape:\n",
    "            variable_parameters *= dim.value\n",
    "        #print(\"parameter num:\",variable_parameters)\n",
    "        total_parameters += variable_parameters\n",
    "    return total_parameters"
   ]
  },
  {
   "cell_type": "markdown",
   "metadata": {},
   "source": [
    "## Model 1 Architecure"
   ]
  },
  {
   "cell_type": "code",
   "execution_count": 4,
   "metadata": {},
   "outputs": [
    {
     "name": "stdout",
     "output_type": "stream",
     "text": [
      "WARNING:tensorflow:From <ipython-input-4-613e0504822e>:5: calling argmax (from tensorflow.python.ops.math_ops) with dimension is deprecated and will be removed in a future version.\n",
      "Instructions for updating:\n",
      "Use the `axis` argument instead\n",
      "WARNING:tensorflow:From <ipython-input-4-613e0504822e>:7: conv2d (from tensorflow.python.layers.convolutional) is deprecated and will be removed in a future version.\n",
      "Instructions for updating:\n",
      "Use `tf.keras.layers.Conv2D` instead.\n",
      "WARNING:tensorflow:From /home/kzhai/.conda/envs/tensorflow/lib/python3.6/site-packages/tensorflow_core/python/layers/convolutional.py:424: Layer.apply (from tensorflow.python.keras.engine.base_layer) is deprecated and will be removed in a future version.\n",
      "Instructions for updating:\n",
      "Please use `layer.__call__` method instead.\n",
      "WARNING:tensorflow:From <ipython-input-4-613e0504822e>:8: max_pooling2d (from tensorflow.python.layers.pooling) is deprecated and will be removed in a future version.\n",
      "Instructions for updating:\n",
      "Use keras.layers.MaxPooling2D instead.\n",
      "WARNING:tensorflow:From <ipython-input-4-613e0504822e>:13: flatten (from tensorflow.python.layers.core) is deprecated and will be removed in a future version.\n",
      "Instructions for updating:\n",
      "Use keras.layers.flatten instead.\n",
      "WARNING:tensorflow:From <ipython-input-4-613e0504822e>:14: dense (from tensorflow.python.layers.core) is deprecated and will be removed in a future version.\n",
      "Instructions for updating:\n",
      "Use keras.layers.Dense instead.\n",
      "WARNING:tensorflow:From <ipython-input-4-613e0504822e>:16: softmax_cross_entropy_with_logits (from tensorflow.python.ops.nn_ops) is deprecated and will be removed in a future version.\n",
      "Instructions for updating:\n",
      "\n",
      "Future major versions of TensorFlow will allow gradients to flow\n",
      "into the labels input on backprop by default.\n",
      "\n",
      "See `tf.nn.softmax_cross_entropy_with_logits_v2`.\n",
      "\n",
      "m1 =  13972\n"
     ]
    }
   ],
   "source": [
    "tf.reset_default_graph()\n",
    "x = tf.placeholder(tf.float32, shape = [None, img_flatten], name='x')\n",
    "input_x = tf.reshape(x,[-1,img_size,img_size,1])\n",
    "y = tf.placeholder(tf.float32, shape = [None, num_classes], name='y')\n",
    "y_cls = tf.argmax(y, dimension=1)\n",
    "\n",
    "conv1 = tf.layers.conv2d(inputs=input_x,filters=2,kernel_size=1,padding=\"SAME\",activation=tf.nn.leaky_relu)\n",
    "pool1 = tf.layers.max_pooling2d(inputs=conv1,pool_size=2,strides=2)\n",
    "\n",
    "conv2 = tf.layers.conv2d(inputs=pool1,filters=2,kernel_size=1,padding=\"same\",activation=tf.nn.leaky_relu)\n",
    "pool2 = tf.layers.max_pooling2d(inputs=conv2,pool_size=2,strides=2)\n",
    "\n",
    "flat1 = tf.layers.flatten(pool2);\n",
    "fc1 = tf.layers.dense(inputs=flat1,units=128,activation=tf.nn.leaky_relu)\n",
    "logits = tf.layers.dense(inputs=fc1,units=num_classes,activation=None);\n",
    "cross_entropy = tf.nn.softmax_cross_entropy_with_logits(labels=y,logits=logits)\n",
    "loss = tf.reduce_mean(cross_entropy)\n",
    "\n",
    "softmax = tf.nn.softmax(logits=logits)\n",
    "pred_op = tf.argmax(softmax,dimension=1)\n",
    "acc_op = tf.reduce_mean(tf.cast(tf.equal(pred_op, y_cls), tf.float32))\n",
    "opt = tf.train.AdamOptimizer(learning_rate=0.005)\n",
    "optimizer = opt.minimize(loss)\n",
    "\n",
    "m1 = parameter_count()\n",
    "print('m1 = ', m1)"
   ]
  },
  {
   "cell_type": "markdown",
   "metadata": {},
   "source": [
    "## Training Model 1"
   ]
  },
  {
   "cell_type": "code",
   "execution_count": 5,
   "metadata": {},
   "outputs": [
    {
     "name": "stdout",
     "output_type": "stream",
     "text": [
      "Iteration:      0, Training Loss: 0.319825, Training Accuracy:  92.2%, Test Loss: 0.296465, Test Accuracy:  90.6%\n"
     ]
    }
   ],
   "source": [
    "sess = tf.Session() \n",
    "sess.run(tf.global_variables_initializer())         # initialize var in graph\n",
    "\n",
    "EPOCH = 1\n",
    "BATCH_SIZE = 64\n",
    "\n",
    "train_loss_list = []\n",
    "train_acc_list = []\n",
    "test_loss_list = []\n",
    "test_acc_list = []\n",
    "\n",
    "for i in range(EPOCH):\n",
    "    for j in range(int(data.train.num_examples/BATCH_SIZE)):\n",
    "        x_batch, y_true_batch = data.train.next_batch(BATCH_SIZE)\n",
    "        sess.run(optimizer, feed_dict = {x: x_batch, y: y_true_batch})\n",
    "\n",
    "\n",
    "    train_loss, train_acc = sess.run([loss,acc_op], feed_dict={x: x_batch,y: y_true_batch})\n",
    "    train_loss_list.append(train_loss)\n",
    "    train_acc_list.append(train_acc)\n",
    "    test_loss, test_acc = sess.run([loss,acc_op],feed_dict={x:data.test.images,y:data.test.labels})\n",
    "    test_loss_list.append(test_loss)\n",
    "    test_acc_list.append(test_acc)\n",
    "    # Message for printing.\n",
    "    msg = \"Iteration: {0:>6}, Training Loss: {1:>1.6}, Training Accuracy: {2:>6.1%}, Test Loss: {3:>1.6}, Test Accuracy: {4:>6.1%}\"\n",
    "    # Print it.\n",
    "    print(msg.format(i, train_loss, train_acc, test_loss, test_acc))"
   ]
  },
  {
   "cell_type": "markdown",
   "metadata": {},
   "source": [
    "## Model 2 Architecure"
   ]
  },
  {
   "cell_type": "code",
   "execution_count": 6,
   "metadata": {},
   "outputs": [
    {
     "name": "stdout",
     "output_type": "stream",
     "text": [
      "m2 =  66345\n"
     ]
    }
   ],
   "source": [
    "tf.reset_default_graph()\n",
    "x = tf.placeholder(tf.float32, shape = [None, img_flatten], name='x')\n",
    "input_x = tf.reshape(x,[-1,img_size,img_size,1])\n",
    "y = tf.placeholder(tf.float32, shape = [None, num_classes], name='y')\n",
    "y_cls = tf.argmax(y, dimension=1)\n",
    "\n",
    "conv1 = tf.layers.conv2d(inputs=input_x,filters=2,kernel_size=1,padding=\"SAME\",activation=tf.nn.leaky_relu)\n",
    "pool1 = tf.layers.max_pooling2d(inputs=conv1,pool_size=2,strides=1)\n",
    "\n",
    "conv2 = tf.layers.conv2d(inputs=pool1,filters=3,kernel_size=2,padding=\"same\",activation=tf.nn.leaky_relu)\n",
    "pool2 = tf.layers.max_pooling2d(inputs=conv2,pool_size=2,strides=2)\n",
    "\n",
    "flat1 = tf.layers.flatten(pool2);\n",
    "fc1 = tf.layers.dense(inputs=flat1,units=128,activation=tf.nn.leaky_relu)\n",
    "logits = tf.layers.dense(inputs=fc1,units=num_classes,activation=None);\n",
    "cross_entropy = tf.nn.softmax_cross_entropy_with_logits(labels=y,logits=logits)\n",
    "loss = tf.reduce_mean(cross_entropy)\n",
    "\n",
    "softmax = tf.nn.softmax(logits=logits)\n",
    "pred_op = tf.argmax(softmax,dimension=1)\n",
    "acc_op = tf.reduce_mean(tf.cast(tf.equal(pred_op, y_cls), tf.float32))\n",
    "opt = tf.train.AdamOptimizer(learning_rate=0.005)\n",
    "optimizer = opt.minimize(loss)\n",
    "\n",
    "m2 = parameter_count()\n",
    "print('m2 = ', m2)"
   ]
  },
  {
   "cell_type": "markdown",
   "metadata": {},
   "source": [
    "## Training Model 2"
   ]
  },
  {
   "cell_type": "code",
   "execution_count": 7,
   "metadata": {},
   "outputs": [
    {
     "name": "stdout",
     "output_type": "stream",
     "text": [
      "Iteration:      0, Training Loss: 0.152705, Training Accuracy:  98.4%, Test Loss: 0.110608, Test Accuracy:  96.6%\n"
     ]
    }
   ],
   "source": [
    "sess = tf.Session() \n",
    "sess.run(tf.global_variables_initializer())         # initialize var in graph\n",
    "\n",
    "EPOCH = 1\n",
    "BATCH_SIZE = 64\n",
    "\n",
    "for i in range(EPOCH):\n",
    "    for j in range(int(data.train.num_examples/BATCH_SIZE)):\n",
    "        x_batch, y_true_batch = data.train.next_batch(BATCH_SIZE)\n",
    "        sess.run(optimizer, feed_dict = {x: x_batch, y: y_true_batch})\n",
    "\n",
    "\n",
    "    train_loss, train_acc = sess.run([loss,acc_op], feed_dict={x: x_batch,y: y_true_batch})\n",
    "    train_loss_list.append(train_loss)\n",
    "    train_acc_list.append(train_acc)\n",
    "    test_loss, test_acc = sess.run([loss,acc_op],feed_dict={x:data.test.images,y:data.test.labels})\n",
    "    test_loss_list.append(test_loss)\n",
    "    test_acc_list.append(test_acc)\n",
    "    # Message for printing.\n",
    "    msg = \"Iteration: {0:>6}, Training Loss: {1:>1.6}, Training Accuracy: {2:>6.1%}, Test Loss: {3:>1.6}, Test Accuracy: {4:>6.1%}\"\n",
    "    # Print it.\n",
    "    print(msg.format(i, train_loss, train_acc, test_loss, test_acc))"
   ]
  },
  {
   "cell_type": "markdown",
   "metadata": {},
   "source": [
    "## Model 3 Architecure"
   ]
  },
  {
   "cell_type": "code",
   "execution_count": 8,
   "metadata": {},
   "outputs": [
    {
     "name": "stdout",
     "output_type": "stream",
     "text": [
      "m3 =  26552\n"
     ]
    }
   ],
   "source": [
    "tf.reset_default_graph()\n",
    "x = tf.placeholder(tf.float32, shape = [None, img_flatten], name='x')\n",
    "input_x = tf.reshape(x,[-1,img_size,img_size,1])\n",
    "y = tf.placeholder(tf.float32, shape = [None, num_classes], name='y')\n",
    "y_cls = tf.argmax(y, dimension=1)\n",
    "\n",
    "conv1 = tf.layers.conv2d(inputs=input_x,filters=2,kernel_size=2,padding=\"SAME\",activation=tf.nn.leaky_relu)\n",
    "pool1 = tf.layers.max_pooling2d(inputs=conv1,pool_size=2,strides=2)\n",
    "\n",
    "conv2 = tf.layers.conv2d(inputs=pool1,filters=4,kernel_size=2,padding=\"same\",activation=tf.nn.leaky_relu)\n",
    "pool2 = tf.layers.max_pooling2d(inputs=conv2,pool_size=2,strides=2)\n",
    "\n",
    "flat1 = tf.layers.flatten(pool2);\n",
    "fc1 = tf.layers.dense(inputs=flat1,units=128,activation=tf.nn.leaky_relu)\n",
    "logits = tf.layers.dense(inputs=fc1,units=num_classes,activation=None);\n",
    "cross_entropy = tf.nn.softmax_cross_entropy_with_logits(labels=y,logits=logits)\n",
    "loss = tf.reduce_mean(cross_entropy)\n",
    "\n",
    "softmax = tf.nn.softmax(logits=logits)\n",
    "pred_op = tf.argmax(softmax,dimension=1)\n",
    "acc_op = tf.reduce_mean(tf.cast(tf.equal(pred_op, y_cls), tf.float32))\n",
    "opt = tf.train.AdamOptimizer(learning_rate=0.005)\n",
    "optimizer = opt.minimize(loss)\n",
    "\n",
    "m3 = parameter_count()\n",
    "print('m3 = ', m3)"
   ]
  },
  {
   "cell_type": "markdown",
   "metadata": {},
   "source": [
    "## Training Model 3"
   ]
  },
  {
   "cell_type": "code",
   "execution_count": 9,
   "metadata": {},
   "outputs": [
    {
     "name": "stdout",
     "output_type": "stream",
     "text": [
      "Iteration:      0, Training Loss: 0.112694, Training Accuracy:  95.3%, Test Loss: 0.120061, Test Accuracy:  96.3%\n"
     ]
    }
   ],
   "source": [
    "sess = tf.Session() \n",
    "sess.run(tf.global_variables_initializer())         # initialize var in graph\n",
    "\n",
    "EPOCH = 1\n",
    "BATCH_SIZE = 64\n",
    "\n",
    "for i in range(EPOCH):\n",
    "    for j in range(int(data.train.num_examples/BATCH_SIZE)):\n",
    "        x_batch, y_true_batch = data.train.next_batch(BATCH_SIZE)\n",
    "        sess.run(optimizer, feed_dict = {x: x_batch, y: y_true_batch})\n",
    "\n",
    "\n",
    "    train_loss, train_acc = sess.run([loss,acc_op], feed_dict={x: x_batch,y: y_true_batch})\n",
    "    train_loss_list.append(train_loss)\n",
    "    train_acc_list.append(train_acc)\n",
    "    test_loss, test_acc = sess.run([loss,acc_op],feed_dict={x:data.test.images,y:data.test.labels})\n",
    "    test_loss_list.append(test_loss)\n",
    "    test_acc_list.append(test_acc)\n",
    "    # Message for printing.\n",
    "    msg = \"Iteration: {0:>6}, Training Loss: {1:>1.6}, Training Accuracy: {2:>6.1%}, Test Loss: {3:>1.6}, Test Accuracy: {4:>6.1%}\"\n",
    "    # Print it.\n",
    "    print(msg.format(i, train_loss, train_acc, test_loss, test_acc))"
   ]
  },
  {
   "cell_type": "markdown",
   "metadata": {},
   "source": [
    "## Model 4 Architecure"
   ]
  },
  {
   "cell_type": "code",
   "execution_count": 10,
   "metadata": {},
   "outputs": [
    {
     "name": "stdout",
     "output_type": "stream",
     "text": [
      "m4 =  26694\n"
     ]
    }
   ],
   "source": [
    "tf.reset_default_graph()\n",
    "x = tf.placeholder(tf.float32, shape = [None, img_flatten], name='x')\n",
    "input_x = tf.reshape(x,[-1,img_size,img_size,1])\n",
    "y = tf.placeholder(tf.float32, shape = [None, num_classes], name='y')\n",
    "y_cls = tf.argmax(y, dimension=1)\n",
    "\n",
    "conv1 = tf.layers.conv2d(inputs=input_x,filters=4,kernel_size=3,padding=\"SAME\",activation=tf.nn.leaky_relu)\n",
    "pool1 = tf.layers.max_pooling2d(inputs=conv1,pool_size=2,strides=2)\n",
    "\n",
    "conv2 = tf.layers.conv2d(inputs=pool1,filters=4,kernel_size=3,padding=\"same\",activation=tf.nn.leaky_relu)\n",
    "pool2 = tf.layers.max_pooling2d(inputs=conv2,pool_size=2,strides=2)\n",
    "\n",
    "flat1 = tf.layers.flatten(pool2);\n",
    "fc1 = tf.layers.dense(inputs=flat1,units=128,activation=tf.nn.leaky_relu)\n",
    "logits = tf.layers.dense(inputs=fc1,units=num_classes,activation=None);\n",
    "cross_entropy = tf.nn.softmax_cross_entropy_with_logits(labels=y,logits=logits)\n",
    "loss = tf.reduce_mean(cross_entropy)\n",
    "\n",
    "softmax = tf.nn.softmax(logits=logits)\n",
    "pred_op = tf.argmax(softmax,dimension=1)\n",
    "acc_op = tf.reduce_mean(tf.cast(tf.equal(pred_op, y_cls), tf.float32))\n",
    "opt = tf.train.AdamOptimizer(learning_rate=0.005)\n",
    "optimizer = opt.minimize(loss)\n",
    "\n",
    "m4 = parameter_count()\n",
    "print('m4 = ', m4)"
   ]
  },
  {
   "cell_type": "markdown",
   "metadata": {},
   "source": [
    "## Training Model 4"
   ]
  },
  {
   "cell_type": "code",
   "execution_count": 11,
   "metadata": {},
   "outputs": [
    {
     "name": "stdout",
     "output_type": "stream",
     "text": [
      "Iteration:      0, Training Loss: 0.17711, Training Accuracy:  93.8%, Test Loss: 0.0962295, Test Accuracy:  97.0%\n"
     ]
    }
   ],
   "source": [
    "sess = tf.Session() \n",
    "sess.run(tf.global_variables_initializer())         # initialize var in graph\n",
    "\n",
    "EPOCH = 1\n",
    "BATCH_SIZE = 64\n",
    "\n",
    "\n",
    "for i in range(EPOCH):\n",
    "    for j in range(int(data.train.num_examples/BATCH_SIZE)):\n",
    "        x_batch, y_true_batch = data.train.next_batch(BATCH_SIZE)\n",
    "        sess.run(optimizer, feed_dict = {x: x_batch, y: y_true_batch})\n",
    "\n",
    "\n",
    "    train_loss, train_acc = sess.run([loss,acc_op], feed_dict={x: x_batch,y: y_true_batch})\n",
    "    train_loss_list.append(train_loss)\n",
    "    train_acc_list.append(train_acc)\n",
    "    test_loss, test_acc = sess.run([loss,acc_op],feed_dict={x:data.test.images,y:data.test.labels})\n",
    "    test_loss_list.append(test_loss)\n",
    "    test_acc_list.append(test_acc)\n",
    "    # Message for printing.\n",
    "    msg = \"Iteration: {0:>6}, Training Loss: {1:>1.6}, Training Accuracy: {2:>6.1%}, Test Loss: {3:>1.6}, Test Accuracy: {4:>6.1%}\"\n",
    "    # Print it.\n",
    "    print(msg.format(i, train_loss, train_acc, test_loss, test_acc))"
   ]
  },
  {
   "cell_type": "markdown",
   "metadata": {},
   "source": [
    "## Model 5 Architecure"
   ]
  },
  {
   "cell_type": "code",
   "execution_count": 12,
   "metadata": {},
   "outputs": [
    {
     "name": "stdout",
     "output_type": "stream",
     "text": [
      "m5 =  52182\n"
     ]
    }
   ],
   "source": [
    "tf.reset_default_graph()\n",
    "x = tf.placeholder(tf.float32, shape = [None, img_flatten], name='x')\n",
    "input_x = tf.reshape(x,[-1,img_size,img_size,1])\n",
    "y = tf.placeholder(tf.float32, shape = [None, num_classes], name='y')\n",
    "y_cls = tf.argmax(y, dimension=1)\n",
    "\n",
    "conv1 = tf.layers.conv2d(inputs=input_x,filters=4,kernel_size=4,padding=\"SAME\",activation=tf.nn.leaky_relu)\n",
    "pool1 = tf.layers.max_pooling2d(inputs=conv1,pool_size=2,strides=2)\n",
    "\n",
    "conv2 = tf.layers.conv2d(inputs=pool1,filters=8,kernel_size=4,padding=\"same\",activation=tf.nn.leaky_relu)\n",
    "pool2 = tf.layers.max_pooling2d(inputs=conv2,pool_size=2,strides=2)\n",
    "\n",
    "flat1 = tf.layers.flatten(pool2);\n",
    "fc1 = tf.layers.dense(inputs=flat1,units=128,activation=tf.nn.leaky_relu)\n",
    "logits = tf.layers.dense(inputs=fc1,units=num_classes,activation=None);\n",
    "cross_entropy = tf.nn.softmax_cross_entropy_with_logits(labels=y,logits=logits)\n",
    "loss = tf.reduce_mean(cross_entropy)\n",
    "\n",
    "softmax = tf.nn.softmax(logits=logits)\n",
    "pred_op = tf.argmax(softmax,dimension=1)\n",
    "acc_op = tf.reduce_mean(tf.cast(tf.equal(pred_op, y_cls), tf.float32))\n",
    "opt = tf.train.AdamOptimizer(learning_rate=0.005)\n",
    "optimizer = opt.minimize(loss)\n",
    "\n",
    "m5 = parameter_count()\n",
    "print('m5 = ', m5)"
   ]
  },
  {
   "cell_type": "markdown",
   "metadata": {},
   "source": [
    "## Training Model 5"
   ]
  },
  {
   "cell_type": "code",
   "execution_count": 13,
   "metadata": {},
   "outputs": [
    {
     "name": "stdout",
     "output_type": "stream",
     "text": [
      "Iteration:      0, Training Loss: 0.0632565, Training Accuracy:  96.9%, Test Loss: 0.0598045, Test Accuracy:  98.1%\n"
     ]
    }
   ],
   "source": [
    "sess = tf.Session() \n",
    "sess.run(tf.global_variables_initializer())         # initialize var in graph\n",
    "\n",
    "EPOCH = 1\n",
    "BATCH_SIZE = 64\n",
    "\n",
    "for i in range(EPOCH):\n",
    "    for j in range(int(data.train.num_examples/BATCH_SIZE)):\n",
    "        x_batch, y_true_batch = data.train.next_batch(BATCH_SIZE)\n",
    "        sess.run(optimizer, feed_dict = {x: x_batch, y: y_true_batch})\n",
    "\n",
    "\n",
    "    train_loss, train_acc = sess.run([loss,acc_op], feed_dict={x: x_batch,y: y_true_batch})\n",
    "    train_loss_list.append(train_loss)\n",
    "    train_acc_list.append(train_acc)\n",
    "    test_loss, test_acc = sess.run([loss,acc_op],feed_dict={x:data.test.images,y:data.test.labels})\n",
    "    test_loss_list.append(test_loss)\n",
    "    test_acc_list.append(test_acc)\n",
    "    # Message for printing.\n",
    "    msg = \"Iteration: {0:>6}, Training Loss: {1:>1.6}, Training Accuracy: {2:>6.1%}, Test Loss: {3:>1.6}, Test Accuracy: {4:>6.1%}\"\n",
    "    # Print it.\n",
    "    print(msg.format(i, train_loss, train_acc, test_loss, test_acc))"
   ]
  },
  {
   "cell_type": "markdown",
   "metadata": {},
   "source": [
    "## Model 6 Architecure"
   ]
  },
  {
   "cell_type": "code",
   "execution_count": 14,
   "metadata": {},
   "outputs": [
    {
     "name": "stdout",
     "output_type": "stream",
     "text": [
      "m6 =  52258\n"
     ]
    }
   ],
   "source": [
    "tf.reset_default_graph()\n",
    "x = tf.placeholder(tf.float32, shape = [None, img_flatten], name='x')\n",
    "input_x = tf.reshape(x,[-1,img_size,img_size,1])\n",
    "y = tf.placeholder(tf.float32, shape = [None, num_classes], name='y')\n",
    "y_cls = tf.argmax(y, dimension=1)\n",
    "\n",
    "conv1 = tf.layers.conv2d(inputs=input_x,filters=8,kernel_size=3,padding=\"SAME\",activation=tf.nn.leaky_relu)\n",
    "pool1 = tf.layers.max_pooling2d(inputs=conv1,pool_size=2,strides=2)\n",
    "\n",
    "conv2 = tf.layers.conv2d(inputs=pool1,filters=8,kernel_size=3,padding=\"same\",activation=tf.nn.leaky_relu)\n",
    "pool2 = tf.layers.max_pooling2d(inputs=conv2,pool_size=2,strides=2)\n",
    "\n",
    "flat1 = tf.layers.flatten(pool2);\n",
    "fc1 = tf.layers.dense(inputs=flat1,units=128,activation=tf.nn.leaky_relu)\n",
    "logits = tf.layers.dense(inputs=fc1,units=num_classes,activation=None);\n",
    "cross_entropy = tf.nn.softmax_cross_entropy_with_logits(labels=y,logits=logits)\n",
    "loss = tf.reduce_mean(cross_entropy)\n",
    "\n",
    "softmax = tf.nn.softmax(logits=logits)\n",
    "pred_op = tf.argmax(softmax,dimension=1)\n",
    "acc_op = tf.reduce_mean(tf.cast(tf.equal(pred_op, y_cls), tf.float32))\n",
    "opt = tf.train.AdamOptimizer(learning_rate=0.005)\n",
    "optimizer = opt.minimize(loss)\n",
    "\n",
    "m6 = parameter_count()\n",
    "print('m6 = ', m6)"
   ]
  },
  {
   "cell_type": "markdown",
   "metadata": {},
   "source": [
    "## Training Model 6"
   ]
  },
  {
   "cell_type": "code",
   "execution_count": 15,
   "metadata": {},
   "outputs": [
    {
     "name": "stdout",
     "output_type": "stream",
     "text": [
      "Iteration:      0, Training Loss: 0.0542464, Training Accuracy:  98.4%, Test Loss: 0.054493, Test Accuracy:  98.4%\n"
     ]
    }
   ],
   "source": [
    "sess = tf.Session() \n",
    "sess.run(tf.global_variables_initializer())         # initialize var in graph\n",
    "\n",
    "EPOCH = 1\n",
    "BATCH_SIZE = 64\n",
    "\n",
    "\n",
    "\n",
    "for i in range(EPOCH):\n",
    "    for j in range(int(data.train.num_examples/BATCH_SIZE)):\n",
    "        x_batch, y_true_batch = data.train.next_batch(BATCH_SIZE)\n",
    "        sess.run(optimizer, feed_dict = {x: x_batch, y: y_true_batch})\n",
    "\n",
    "\n",
    "    train_loss, train_acc = sess.run([loss,acc_op], feed_dict={x: x_batch,y: y_true_batch})\n",
    "    train_loss_list.append(train_loss)\n",
    "    train_acc_list.append(train_acc)\n",
    "    test_loss, test_acc = sess.run([loss,acc_op],feed_dict={x:data.test.images,y:data.test.labels})\n",
    "    test_loss_list.append(test_loss)\n",
    "    test_acc_list.append(test_acc)\n",
    "    # Message for printing.\n",
    "    msg = \"Iteration: {0:>6}, Training Loss: {1:>1.6}, Training Accuracy: {2:>6.1%}, Test Loss: {3:>1.6}, Test Accuracy: {4:>6.1%}\"\n",
    "    # Print it.\n",
    "    print(msg.format(i, train_loss, train_acc, test_loss, test_acc))"
   ]
  },
  {
   "cell_type": "markdown",
   "metadata": {},
   "source": [
    "## Model 7 Architecure"
   ]
  },
  {
   "cell_type": "code",
   "execution_count": 16,
   "metadata": {},
   "outputs": [
    {
     "name": "stdout",
     "output_type": "stream",
     "text": [
      "m7 =  79302\n"
     ]
    }
   ],
   "source": [
    "tf.reset_default_graph()\n",
    "x = tf.placeholder(tf.float32, shape = [None, img_flatten], name='x')\n",
    "input_x = tf.reshape(x,[-1,img_size,img_size,1])\n",
    "y = tf.placeholder(tf.float32, shape = [None, num_classes], name='y')\n",
    "y_cls = tf.argmax(y, dimension=1)\n",
    "\n",
    "conv1 = tf.layers.conv2d(inputs=input_x,filters=8,kernel_size=5,padding=\"SAME\",activation=tf.nn.leaky_relu)\n",
    "pool1 = tf.layers.max_pooling2d(inputs=conv1,pool_size=2,strides=2)\n",
    "\n",
    "conv2 = tf.layers.conv2d(inputs=pool1,filters=12,kernel_size=5,padding=\"same\",activation=tf.nn.leaky_relu)\n",
    "pool2 = tf.layers.max_pooling2d(inputs=conv2,pool_size=2,strides=2)\n",
    "\n",
    "flat1 = tf.layers.flatten(pool2);\n",
    "fc1 = tf.layers.dense(inputs=flat1,units=128,activation=tf.nn.leaky_relu)\n",
    "logits = tf.layers.dense(inputs=fc1,units=num_classes,activation=None);\n",
    "cross_entropy = tf.nn.softmax_cross_entropy_with_logits(labels=y,logits=logits)\n",
    "loss = tf.reduce_mean(cross_entropy)\n",
    "\n",
    "softmax = tf.nn.softmax(logits=logits)\n",
    "pred_op = tf.argmax(softmax,dimension=1)\n",
    "acc_op = tf.reduce_mean(tf.cast(tf.equal(pred_op, y_cls), tf.float32))\n",
    "opt = tf.train.AdamOptimizer(learning_rate=0.005)\n",
    "optimizer = opt.minimize(loss)\n",
    "\n",
    "m7 = parameter_count()\n",
    "print('m7 = ', m7)"
   ]
  },
  {
   "cell_type": "markdown",
   "metadata": {},
   "source": [
    "## Training Model 7"
   ]
  },
  {
   "cell_type": "code",
   "execution_count": 17,
   "metadata": {},
   "outputs": [
    {
     "name": "stdout",
     "output_type": "stream",
     "text": [
      "Iteration:      0, Training Loss: 0.044501, Training Accuracy:  98.4%, Test Loss: 0.0520916, Test Accuracy:  98.4%\n"
     ]
    }
   ],
   "source": [
    "sess = tf.Session() \n",
    "sess.run(tf.global_variables_initializer())         # initialize var in graph\n",
    "\n",
    "EPOCH = 1\n",
    "BATCH_SIZE = 64\n",
    "\n",
    "\n",
    "\n",
    "for i in range(EPOCH):\n",
    "    for j in range(int(data.train.num_examples/BATCH_SIZE)):\n",
    "        x_batch, y_true_batch = data.train.next_batch(BATCH_SIZE)\n",
    "        sess.run(optimizer, feed_dict = {x: x_batch, y: y_true_batch})\n",
    "\n",
    "\n",
    "    train_loss, train_acc = sess.run([loss,acc_op], feed_dict={x: x_batch,y: y_true_batch})\n",
    "    train_loss_list.append(train_loss)\n",
    "    train_acc_list.append(train_acc)\n",
    "    test_loss, test_acc = sess.run([loss,acc_op],feed_dict={x:data.test.images,y:data.test.labels})\n",
    "    test_loss_list.append(test_loss)\n",
    "    test_acc_list.append(test_acc)\n",
    "    # Message for printing.\n",
    "    msg = \"Iteration: {0:>6}, Training Loss: {1:>1.6}, Training Accuracy: {2:>6.1%}, Test Loss: {3:>1.6}, Test Accuracy: {4:>6.1%}\"\n",
    "    # Print it.\n",
    "    print(msg.format(i, train_loss, train_acc, test_loss, test_acc))"
   ]
  },
  {
   "cell_type": "markdown",
   "metadata": {},
   "source": [
    "## Model 8 Architecure"
   ]
  },
  {
   "cell_type": "code",
   "execution_count": 18,
   "metadata": {},
   "outputs": [
    {
     "name": "stdout",
     "output_type": "stream",
     "text": [
      "m8 =  105194\n"
     ]
    }
   ],
   "source": [
    "tf.reset_default_graph()\n",
    "x = tf.placeholder(tf.float32, shape = [None, img_flatten], name='x')\n",
    "input_x = tf.reshape(x,[-1,img_size,img_size,1])\n",
    "y = tf.placeholder(tf.float32, shape = [None, num_classes], name='y')\n",
    "y_cls = tf.argmax(y, dimension=1)\n",
    "\n",
    "conv1 = tf.layers.conv2d(inputs=input_x,filters=8,kernel_size=5,padding=\"SAME\",activation=tf.nn.leaky_relu)\n",
    "pool1 = tf.layers.max_pooling2d(inputs=conv1,pool_size=2,strides=2)\n",
    "\n",
    "conv2 = tf.layers.conv2d(inputs=pool1,filters=16,kernel_size=5,padding=\"same\",activation=tf.nn.leaky_relu)\n",
    "pool2 = tf.layers.max_pooling2d(inputs=conv2,pool_size=2,strides=2)\n",
    "\n",
    "flat1 = tf.layers.flatten(pool2);\n",
    "fc1 = tf.layers.dense(inputs=flat1,units=128,activation=tf.nn.leaky_relu)\n",
    "logits = tf.layers.dense(inputs=fc1,units=num_classes,activation=None);\n",
    "cross_entropy = tf.nn.softmax_cross_entropy_with_logits(labels=y,logits=logits)\n",
    "loss = tf.reduce_mean(cross_entropy)\n",
    "\n",
    "softmax = tf.nn.softmax(logits=logits)\n",
    "pred_op = tf.argmax(softmax,dimension=1)\n",
    "acc_op = tf.reduce_mean(tf.cast(tf.equal(pred_op, y_cls), tf.float32))\n",
    "opt = tf.train.AdamOptimizer(learning_rate=0.005)\n",
    "optimizer = opt.minimize(loss)\n",
    "\n",
    "m8 = parameter_count()\n",
    "print('m8 = ', m8)"
   ]
  },
  {
   "cell_type": "markdown",
   "metadata": {},
   "source": [
    "## Train Model 8"
   ]
  },
  {
   "cell_type": "code",
   "execution_count": 19,
   "metadata": {},
   "outputs": [
    {
     "name": "stdout",
     "output_type": "stream",
     "text": [
      "Iteration:      0, Training Loss: 0.00378866, Training Accuracy: 100.0%, Test Loss: 0.0508564, Test Accuracy:  98.3%\n"
     ]
    }
   ],
   "source": [
    "sess = tf.Session() \n",
    "sess.run(tf.global_variables_initializer())         # initialize var in graph\n",
    "\n",
    "EPOCH = 1\n",
    "BATCH_SIZE = 64\n",
    "\n",
    "\n",
    "\n",
    "for i in range(EPOCH):\n",
    "    for j in range(int(data.train.num_examples/BATCH_SIZE)):\n",
    "        x_batch, y_true_batch = data.train.next_batch(BATCH_SIZE)\n",
    "        sess.run(optimizer, feed_dict = {x: x_batch, y: y_true_batch})\n",
    "\n",
    "\n",
    "    train_loss, train_acc = sess.run([loss,acc_op], feed_dict={x: x_batch,y: y_true_batch})\n",
    "    train_loss_list.append(train_loss)\n",
    "    train_acc_list.append(train_acc)\n",
    "    test_loss, test_acc = sess.run([loss,acc_op],feed_dict={x:data.test.images,y:data.test.labels})\n",
    "    test_loss_list.append(test_loss)\n",
    "    test_acc_list.append(test_acc)\n",
    "    # Message for printing.\n",
    "    msg = \"Iteration: {0:>6}, Training Loss: {1:>1.6}, Training Accuracy: {2:>6.1%}, Test Loss: {3:>1.6}, Test Accuracy: {4:>6.1%}\"\n",
    "    # Print it.\n",
    "    print(msg.format(i, train_loss, train_acc, test_loss, test_acc))"
   ]
  },
  {
   "cell_type": "markdown",
   "metadata": {},
   "source": [
    "## Model 9 Architecure"
   ]
  },
  {
   "cell_type": "code",
   "execution_count": 20,
   "metadata": {},
   "outputs": [
    {
     "name": "stdout",
     "output_type": "stream",
     "text": [
      "m9 =  66908\n"
     ]
    }
   ],
   "source": [
    "tf.reset_default_graph()\n",
    "x = tf.placeholder(tf.float32, shape = [None, img_flatten], name='x')\n",
    "input_x = tf.reshape(x,[-1,img_size,img_size,1])\n",
    "y = tf.placeholder(tf.float32, shape = [None, num_classes], name='y')\n",
    "y_cls = tf.argmax(y, dimension=1)\n",
    "\n",
    "conv1 = tf.layers.conv2d(inputs=input_x,filters=10,kernel_size=5,padding=\"SAME\",activation=tf.nn.leaky_relu)\n",
    "pool1 = tf.layers.max_pooling2d(inputs=conv1,pool_size=2,strides=2)\n",
    "\n",
    "conv2 = tf.layers.conv2d(inputs=pool1,filters=10,kernel_size=5,padding=\"same\",activation=tf.nn.leaky_relu)\n",
    "pool2 = tf.layers.max_pooling2d(inputs=conv2,pool_size=2,strides=2)\n",
    "\n",
    "flat1 = tf.layers.flatten(pool2);\n",
    "fc1 = tf.layers.dense(inputs=flat1,units=128,activation=tf.nn.leaky_relu)\n",
    "logits = tf.layers.dense(inputs=fc1,units=num_classes,activation=None);\n",
    "cross_entropy = tf.nn.softmax_cross_entropy_with_logits(labels=y,logits=logits)\n",
    "loss = tf.reduce_mean(cross_entropy)\n",
    "\n",
    "softmax = tf.nn.softmax(logits=logits)\n",
    "pred_op = tf.argmax(softmax,dimension=1)\n",
    "acc_op = tf.reduce_mean(tf.cast(tf.equal(pred_op, y_cls), tf.float32))\n",
    "opt = tf.train.AdamOptimizer(learning_rate=0.005)\n",
    "optimizer = opt.minimize(loss)\n",
    "\n",
    "m9 = parameter_count()\n",
    "print('m9 = ', m9)"
   ]
  },
  {
   "cell_type": "markdown",
   "metadata": {},
   "source": [
    "## Training Model 9"
   ]
  },
  {
   "cell_type": "code",
   "execution_count": 21,
   "metadata": {},
   "outputs": [
    {
     "name": "stdout",
     "output_type": "stream",
     "text": [
      "Iteration:      0, Training Loss: 0.0711637, Training Accuracy:  96.9%, Test Loss: 0.0589481, Test Accuracy:  98.1%\n"
     ]
    }
   ],
   "source": [
    "sess = tf.Session() \n",
    "sess.run(tf.global_variables_initializer())         # initialize var in graph\n",
    "\n",
    "EPOCH = 1\n",
    "BATCH_SIZE = 64\n",
    "\n",
    "\n",
    "\n",
    "for i in range(EPOCH):\n",
    "    for j in range(int(data.train.num_examples/BATCH_SIZE)):\n",
    "        x_batch, y_true_batch = data.train.next_batch(BATCH_SIZE)\n",
    "        sess.run(optimizer, feed_dict = {x: x_batch, y: y_true_batch})\n",
    "\n",
    "\n",
    "    train_loss, train_acc = sess.run([loss,acc_op], feed_dict={x: x_batch,y: y_true_batch})\n",
    "    train_loss_list.append(train_loss)\n",
    "    train_acc_list.append(train_acc)\n",
    "    test_loss, test_acc = sess.run([loss,acc_op],feed_dict={x:data.test.images,y:data.test.labels})\n",
    "    test_loss_list.append(test_loss)\n",
    "    test_acc_list.append(test_acc)\n",
    "    # Message for printing.\n",
    "    msg = \"Iteration: {0:>6}, Training Loss: {1:>1.6}, Training Accuracy: {2:>6.1%}, Test Loss: {3:>1.6}, Test Accuracy: {4:>6.1%}\"\n",
    "    # Print it.\n",
    "    print(msg.format(i, train_loss, train_acc, test_loss, test_acc))"
   ]
  },
  {
   "cell_type": "markdown",
   "metadata": {},
   "source": [
    "## Model 10 Architecure"
   ]
  },
  {
   "cell_type": "code",
   "execution_count": 22,
   "metadata": {},
   "outputs": [
    {
     "name": "stdout",
     "output_type": "stream",
     "text": [
      "m10 =  228042\n"
     ]
    }
   ],
   "source": [
    "tf.reset_default_graph()\n",
    "x = tf.placeholder(tf.float32, shape = [None, img_flatten], name='x')\n",
    "input_x = tf.reshape(x,[-1,img_size,img_size,1])\n",
    "y = tf.placeholder(tf.float32, shape = [None, num_classes], name='y')\n",
    "y_cls = tf.argmax(y, dimension=1)\n",
    "\n",
    "conv1 = tf.layers.conv2d(inputs=input_x,filters=16,kernel_size=7,padding=\"SAME\",activation=tf.nn.leaky_relu)\n",
    "pool1 = tf.layers.max_pooling2d(inputs=conv1,pool_size=2,strides=2)\n",
    "\n",
    "conv2 = tf.layers.conv2d(inputs=pool1,filters=32,kernel_size=7,padding=\"same\",activation=tf.nn.leaky_relu)\n",
    "pool2 = tf.layers.max_pooling2d(inputs=conv2,pool_size=2,strides=2)\n",
    "\n",
    "flat1 = tf.layers.flatten(pool2);\n",
    "fc1 = tf.layers.dense(inputs=flat1,units=128,activation=tf.nn.leaky_relu)\n",
    "logits = tf.layers.dense(inputs=fc1,units=num_classes,activation=None);\n",
    "cross_entropy = tf.nn.softmax_cross_entropy_with_logits(labels=y,logits=logits)\n",
    "loss = tf.reduce_mean(cross_entropy)\n",
    "\n",
    "softmax = tf.nn.softmax(logits=logits)\n",
    "pred_op = tf.argmax(softmax,dimension=1)\n",
    "acc_op = tf.reduce_mean(tf.cast(tf.equal(pred_op, y_cls), tf.float32))\n",
    "opt = tf.train.AdamOptimizer(learning_rate=0.005)\n",
    "optimizer = opt.minimize(loss)\n",
    "\n",
    "m10 = parameter_count()\n",
    "print('m10 = ', m10)"
   ]
  },
  {
   "cell_type": "markdown",
   "metadata": {},
   "source": [
    "## Training Model 10"
   ]
  },
  {
   "cell_type": "code",
   "execution_count": 23,
   "metadata": {},
   "outputs": [
    {
     "name": "stdout",
     "output_type": "stream",
     "text": [
      "Iteration:      0, Training Loss: 0.0252854, Training Accuracy:  98.4%, Test Loss: 0.0689441, Test Accuracy:  98.0%\n"
     ]
    }
   ],
   "source": [
    "sess = tf.Session() \n",
    "sess.run(tf.global_variables_initializer())         # initialize var in graph\n",
    "\n",
    "EPOCH = 1\n",
    "BATCH_SIZE = 64\n",
    "\n",
    "for i in range(EPOCH):\n",
    "    for j in range(int(data.train.num_examples/BATCH_SIZE)):\n",
    "        x_batch, y_true_batch = data.train.next_batch(BATCH_SIZE)\n",
    "        sess.run(optimizer, feed_dict = {x: x_batch, y: y_true_batch})\n",
    "\n",
    "\n",
    "    train_loss, train_acc = sess.run([loss,acc_op], feed_dict={x: x_batch,y: y_true_batch})\n",
    "    train_loss_list.append(train_loss)\n",
    "    train_acc_list.append(train_acc)\n",
    "    test_loss, test_acc = sess.run([loss,acc_op],feed_dict={x:data.test.images,y:data.test.labels})\n",
    "    test_loss_list.append(test_loss)\n",
    "    test_acc_list.append(test_acc)\n",
    "    # Message for printing.\n",
    "    msg = \"Iteration: {0:>6}, Training Loss: {1:>1.6}, Training Accuracy: {2:>6.1%}, Test Loss: {3:>1.6}, Test Accuracy: {4:>6.1%}\"\n",
    "    # Print it.\n",
    "    print(msg.format(i, train_loss, train_acc, test_loss, test_acc))"
   ]
  },
  {
   "cell_type": "markdown",
   "metadata": {},
   "source": [
    "## Plot"
   ]
  },
  {
   "cell_type": "code",
   "execution_count": 24,
   "metadata": {},
   "outputs": [
    {
     "data": {
      "image/png": "[encoded data removed]",
      "text/plain": [
       "<Figure size 432x288 with 1 Axes>"
      ]
     },
     "metadata": {
      "needs_background": "light"
     },
     "output_type": "display_data"
    },
    {
     "data": {
      "image/png": "[encoded data removed]",
      "text/plain": [
       "<Figure size 432x288 with 1 Axes>"
      ]
     },
     "metadata": {
      "needs_background": "light"
     },
     "output_type": "display_data"
    }
   ],
   "source": [
    "# Plot loss\n",
    "plt.scatter([m1,m2,m3,m4,m5,m6,m7,m8,m9,m10],train_loss_list)\n",
    "plt.scatter([m1,m2,m3,m4,m5,m6,m7,m8,m9,m10],test_loss_list)\n",
    "plt.title('Model loss')\n",
    "plt.ylabel('Loss')\n",
    "plt.xlabel('Number of Parameters');\n",
    "\n",
    "plt.pause(0.1)\n",
    "\n",
    "# Plot accuracy\n",
    "plt.scatter([m1,m2,m3,m4,m5,m6,m7,m8,m9,m10],train_acc_list)\n",
    "plt.scatter([m1,m2,m3,m4,m5,m6,m7,m8,m9,m10],test_acc_list)\n",
    "plt.title('Model accuracy')\n",
    "plt.ylabel('Accuracy')\n",
    "plt.xlabel('Number of Parameters');\n"
   ]
  }
 ],
 "metadata": {
  "kernelspec": {
   "display_name": "tensorflow",
   "language": "python",
   "name": "tensorflow"
  },
  "language_info": {
   "codemirror_mode": {
    "name": "ipython",
    "version": 3
   },
   "file_extension": ".py",
   "mimetype": "text/x-python",
   "name": "python",
   "nbconvert_exporter": "python",
   "pygments_lexer": "ipython3",
   "version": "3.6.2"
  }
 },
 "nbformat": 4,
 "nbformat_minor": 2
}
