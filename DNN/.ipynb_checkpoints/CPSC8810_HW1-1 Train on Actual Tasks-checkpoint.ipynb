{
 "cells": [
  {
   "cell_type": "markdown",
   "metadata": {},
   "source": [
    "# CPSC8810_HW1-1 Train on Actual Tasks"
   ]
  },
  {
   "cell_type": "markdown",
   "metadata": {},
   "source": [
    "## Import"
   ]
  },
  {
   "cell_type": "code",
   "execution_count": 1,
   "metadata": {},
   "outputs": [],
   "source": [
    "%matplotlib inline\n",
    "import matplotlib.pyplot as plt\n",
    "import tensorflow as tf\n",
    "import numpy as np\n",
    "import math\n",
    "tf.logging.set_verbosity(tf.logging.ERROR)  # or any {DEBUG, INFO, WARN, ERROR, FATAL}b"
   ]
  },
  {
   "cell_type": "code",
   "execution_count": 2,
   "metadata": {},
   "outputs": [
    {
     "data": {
      "text/plain": [
       "'1.15.0'"
      ]
     },
     "execution_count": 2,
     "metadata": {},
     "output_type": "execute_result"
    }
   ],
   "source": [
    "tf.__version__"
   ]
  },
  {
   "cell_type": "markdown",
   "metadata": {},
   "source": [
    "## Load Data"
   ]
  },
  {
   "cell_type": "code",
   "execution_count": 3,
   "metadata": {},
   "outputs": [
    {
     "name": "stdout",
     "output_type": "stream",
     "text": [
      "Extracting data/MNIST/train-images-idx3-ubyte.gz\n",
      "Extracting data/MNIST/train-labels-idx1-ubyte.gz\n",
      "Extracting data/MNIST/t10k-images-idx3-ubyte.gz\n",
      "Extracting data/MNIST/t10k-labels-idx1-ubyte.gz\n"
     ]
    }
   ],
   "source": [
    "from tensorflow.examples.tutorials.mnist import input_data\n",
    "data = input_data.read_data_sets('data/MNIST/', one_hot=True)"
   ]
  },
  {
   "cell_type": "code",
   "execution_count": 4,
   "metadata": {},
   "outputs": [],
   "source": [
    "data.test.cls = np.argmax(data.test.labels, axis=1)"
   ]
  },
  {
   "cell_type": "markdown",
   "metadata": {},
   "source": [
    "## Data Dimensions"
   ]
  },
  {
   "cell_type": "code",
   "execution_count": 5,
   "metadata": {},
   "outputs": [],
   "source": [
    "# We know that MNIST images are 28 pixels in each dimension.\n",
    "img_size = 28\n",
    "\n",
    "# Images are stored in one-dimensional arrays of this length.\n",
    "img_size_flat = img_size * img_size\n",
    "\n",
    "# Tuple with height and width of images used to reshape arrays.\n",
    "img_shape = (img_size, img_size)\n",
    "\n",
    "# Number of colour channels for the images: 1 channel for gray-scale.\n",
    "num_channels = 1\n",
    "\n",
    "# Number of classes, one class for each of 10 digits.\n",
    "num_classes = 10"
   ]
  },
  {
   "cell_type": "markdown",
   "metadata": {},
   "source": [
    "### Helper-function for plotting images"
   ]
  },
  {
   "cell_type": "code",
   "execution_count": 6,
   "metadata": {},
   "outputs": [],
   "source": [
    "def plot_images(images, cls_true, cls_pred=None):\n",
    "    assert len(images) == len(cls_true) == 9\n",
    "    \n",
    "    # Create figure with 3x3 sub-plots.\n",
    "    fig, axes = plt.subplots(3, 3)\n",
    "    fig.subplots_adjust(hspace=0.3, wspace=0.3)\n",
    "\n",
    "    for i, ax in enumerate(axes.flat):\n",
    "        # Plot image.\n",
    "        ax.imshow(images[i].reshape(img_shape), cmap='binary')\n",
    "\n",
    "        # Show true and predicted classes.\n",
    "        if cls_pred is None:\n",
    "            xlabel = \"True: {0}\".format(cls_true[i])\n",
    "        else:\n",
    "            xlabel = \"True: {0}, Pred: {1}\".format(cls_true[i], cls_pred[i])\n",
    "\n",
    "        # Show the classes as the label on the x-axis.\n",
    "        ax.set_xlabel(xlabel)\n",
    "        \n",
    "        # Remove ticks from the plot.\n",
    "        ax.set_xticks([])\n",
    "        ax.set_yticks([])\n",
    "    \n",
    "    # Ensure the plot is shown correctly with multiple plots\n",
    "    # in a single Notebook cell.\n",
    "    plt.show()"
   ]
  },
  {
   "cell_type": "markdown",
   "metadata": {},
   "source": [
    "## Placeholder variables"
   ]
  },
  {
   "cell_type": "code",
   "execution_count": 7,
   "metadata": {},
   "outputs": [],
   "source": [
    "x = tf.placeholder(tf.float32, shape=[None, img_size_flat], name='x')\n",
    "x_image = tf.reshape(x, [-1, img_size, img_size, num_channels])\n",
    "y_true = tf.placeholder(tf.float32, shape=[None, num_classes], name='y_true')\n",
    "y_true_cls = tf.argmax(y_true, dimension=1)"
   ]
  },
  {
   "cell_type": "markdown",
   "metadata": {},
   "source": [
    "## Layers Implementation"
   ]
  },
  {
   "cell_type": "code",
   "execution_count": 11,
   "metadata": {},
   "outputs": [
    {
     "name": "stdout",
     "output_type": "stream",
     "text": [
      "Tensor(\"max_pooling2d_1/MaxPool:0\", shape=(?, 7, 7, 36), dtype=float32)\n"
     ]
    }
   ],
   "source": [
    "# layer_conv1\n",
    "net = tf.layers.conv2d(inputs=x_image, name='layer_conv1', padding='same',\n",
    "                       filters=16, kernel_size=5, activation=tf.nn.relu)\n",
    "net = tf.layers.max_pooling2d(inputs=net, pool_size=2, strides=2)\n",
    "\n",
    "# layer_conv2\n",
    "net = tf.layers.conv2d(inputs=net, name='layer_conv2', padding='same',\n",
    "                       filters=36, kernel_size=5, activation=tf.nn.relu)\n",
    "net = tf.layers.max_pooling2d(inputs=net, pool_size=2, strides=2)\n",
    "\n",
    "print(net)"
   ]
  },
  {
   "cell_type": "code",
   "execution_count": 12,
   "metadata": {},
   "outputs": [
    {
     "name": "stdout",
     "output_type": "stream",
     "text": [
      "Tensor(\"flatten/Reshape:0\", shape=(?, 1764), dtype=float32)\n"
     ]
    }
   ],
   "source": [
    "net = tf.layers.flatten(net)\n",
    "\n",
    "print(net)"
   ]
  },
  {
   "cell_type": "code",
   "execution_count": 13,
   "metadata": {},
   "outputs": [
    {
     "name": "stdout",
     "output_type": "stream",
     "text": [
      "Tensor(\"layer_fc_out/BiasAdd:0\", shape=(?, 10), dtype=float32)\n"
     ]
    }
   ],
   "source": [
    "net = tf.layers.dense(inputs=net, name='layer_fc1',\n",
    "                      units=128, activation=tf.nn.relu)\n",
    "logits = tf.layers.dense(inputs=net, name='layer_fc_out',\n",
    "                      units=num_classes, activation=None)\n",
    "print(logits)"
   ]
  },
  {
   "cell_type": "code",
   "execution_count": 14,
   "metadata": {},
   "outputs": [],
   "source": [
    "y_pred = tf.nn.softmax(logits=logits)\n",
    "y_pred_cls = tf.argmax(y_pred, dimension=1)"
   ]
  },
  {
   "cell_type": "code",
   "execution_count": 15,
   "metadata": {},
   "outputs": [],
   "source": [
    "cross_entropy = tf.nn.softmax_cross_entropy_with_logits(labels=y_true, logits=logits)"
   ]
  },
  {
   "cell_type": "code",
   "execution_count": 16,
   "metadata": {},
   "outputs": [],
   "source": [
    "loss = tf.reduce_mean(cross_entropy)"
   ]
  },
  {
   "cell_type": "markdown",
   "metadata": {},
   "source": [
    "### Optimization Method"
   ]
  },
  {
   "cell_type": "code",
   "execution_count": 17,
   "metadata": {},
   "outputs": [],
   "source": [
    "opt = tf.train.AdamOptimizer(learning_rate=1e-4)\n",
    "optimizer = opt.minimize(loss)"
   ]
  },
  {
   "cell_type": "markdown",
   "metadata": {},
   "source": [
    "### Classification Accuracy"
   ]
  },
  {
   "cell_type": "code",
   "execution_count": 18,
   "metadata": {},
   "outputs": [],
   "source": [
    "correct_prediction = tf.equal(y_pred_cls, y_true_cls)\n",
    "accuracy = tf.reduce_mean(tf.cast(correct_prediction, tf.float32))"
   ]
  },
  {
   "cell_type": "markdown",
   "metadata": {},
   "source": [
    "### Getting the Weights"
   ]
  },
  {
   "cell_type": "code",
   "execution_count": 19,
   "metadata": {},
   "outputs": [],
   "source": [
    "#trainable_var_list = []\n",
    "#for var in tf.get_collection(tf.GraphKeys.TRAINABLE_VARIABLES):\n",
    "#    trainable_var_list.append(var)\n",
    "#    print(var)\n",
    "\n",
    "trainable_var_list = tf.trainable_variables()"
   ]
  },
  {
   "cell_type": "code",
   "execution_count": 20,
   "metadata": {},
   "outputs": [],
   "source": [
    "def get_weights_variable(layer_name):\n",
    "    # Retrieve an existing variable named 'kernel' in the scope\n",
    "    # with the given layer_name.\n",
    "    # This is awkward because the TensorFlow function was\n",
    "    # really intended for another purpose.\n",
    "\n",
    "    with tf.variable_scope(layer_name, reuse=True):\n",
    "        variable = tf.get_variable('kernel')\n",
    "\n",
    "    return variable"
   ]
  },
  {
   "cell_type": "code",
   "execution_count": 21,
   "metadata": {},
   "outputs": [
    {
     "name": "stdout",
     "output_type": "stream",
     "text": [
      "<tf.Variable 'layer_conv1/kernel:0' shape=(5, 5, 1, 16) dtype=float32_ref>\n",
      "<tf.Variable 'layer_conv2/kernel:0' shape=(5, 5, 16, 36) dtype=float32_ref>\n",
      "<tf.Variable 'layer_fc1/kernel:0' shape=(1764, 128) dtype=float32_ref>\n",
      "<tf.Variable 'layer_fc_out/kernel:0' shape=(128, 10) dtype=float32_ref>\n"
     ]
    }
   ],
   "source": [
    "weights_conv1 = get_weights_variable(layer_name='layer_conv1')\n",
    "weights_conv2 = get_weights_variable(layer_name='layer_conv2')\n",
    "print(weights_conv1)\n",
    "print(weights_conv2)\n",
    "\n",
    "weights_fc1 = get_weights_variable(layer_name='layer_fc1')\n",
    "weights_fc_out = get_weights_variable(layer_name='layer_fc_out')\n",
    "print(weights_fc1)\n",
    "print(weights_fc_out)"
   ]
  },
  {
   "cell_type": "markdown",
   "metadata": {},
   "source": [
    "## TensorFlow Run"
   ]
  },
  {
   "cell_type": "markdown",
   "metadata": {},
   "source": [
    "### Create TensorFlow session"
   ]
  },
  {
   "cell_type": "code",
   "execution_count": 22,
   "metadata": {},
   "outputs": [],
   "source": [
    "session = tf.Session()"
   ]
  },
  {
   "cell_type": "markdown",
   "metadata": {},
   "source": [
    "### Initialize variables"
   ]
  },
  {
   "cell_type": "code",
   "execution_count": 23,
   "metadata": {},
   "outputs": [],
   "source": [
    "session.run(tf.global_variables_initializer())"
   ]
  },
  {
   "cell_type": "markdown",
   "metadata": {},
   "source": [
    "### Get gradients during training"
   ]
  },
  {
   "cell_type": "code",
   "execution_count": 24,
   "metadata": {},
   "outputs": [
    {
     "name": "stdout",
     "output_type": "stream",
     "text": [
      "Tensor(\"gradients_1/layer_fc_out/MatMul_grad/MatMul_1:0\", shape=(128, 10), dtype=float32)\n"
     ]
    }
   ],
   "source": [
    "#grad = opt.compute_gradients(loss, weights_fc_out)[0]\n",
    "grads = tf.gradients(loss, weights_fc_out)[0]\n",
    "print(grads)"
   ]
  },
  {
   "cell_type": "markdown",
   "metadata": {},
   "source": [
    "### Hessian Computation"
   ]
  },
  {
   "cell_type": "code",
   "execution_count": 25,
   "metadata": {},
   "outputs": [
    {
     "name": "stdout",
     "output_type": "stream",
     "text": [
      "Tensor(\"Sum:0\", shape=(128, 10, 10), dtype=float32)\n"
     ]
    }
   ],
   "source": [
    "# arg1: our defined function, arg2: list of tf variables associated with the function\n",
    "hessian = tf.reduce_sum(tf.hessians(loss, weights_fc_out)[0], axis = 2)\n",
    "print(hessian)"
   ]
  },
  {
   "cell_type": "code",
   "execution_count": 26,
   "metadata": {},
   "outputs": [],
   "source": [
    "train_batch_size = 64"
   ]
  },
  {
   "cell_type": "code",
   "execution_count": 27,
   "metadata": {},
   "outputs": [],
   "source": [
    "# Counter for total number of iterations performed so far.\n",
    "total_iterations = 0\n",
    "\n",
    "\n",
    "def optimize(num_iterations):\n",
    "    # Ensure we update the global variable rather than a local copy.\n",
    "    global total_iterations\n",
    "    loss_list = []\n",
    "    acc_list = []\n",
    "    for i in range(total_iterations,\n",
    "                   total_iterations + num_iterations):\n",
    "\n",
    "        # Get a batch of training examples.\n",
    "        # x_batch now holds a batch of images and\n",
    "        # y_true_batch are the true labels for those images.\n",
    "        x_batch, y_true_batch = data.train.next_batch(train_batch_size)\n",
    "\n",
    "        # Put the batch into a dict with the proper names\n",
    "        # for placeholder variables in the TensorFlow graph.\n",
    "        feed_dict_train = {x: x_batch,\n",
    "                           y_true: y_true_batch}\n",
    "\n",
    "        # Run the optimizer using this batch of training data.\n",
    "        # TensorFlow assigns the variables in feed_dict_train\n",
    "        # to the placeholder variables and then runs the optimizer.\n",
    "        session.run(optimizer, feed_dict=feed_dict_train)\n",
    "\n",
    "        # Print status every 100 iterations.\n",
    "        \n",
    "        # Save loss of each step\n",
    "        los, acc = session.run([loss, accuracy], feed_dict=feed_dict_train)\n",
    "        loss_list.append(los)\n",
    "        acc_list.append(acc)\n",
    "        \n",
    "        if i % 10 == 0:\n",
    "            # Calculate the accuracy on the training-set.\n",
    "            los, acc = session.run([loss, accuracy], feed_dict=feed_dict_train)\n",
    "            \n",
    "            grads_vals, hess_vals = session.run([grads, hessian], feed_dict=feed_dict_train)\n",
    "            \n",
    "            #print(grads_vals.shape)\n",
    "            #print(hess_vals.shape)\n",
    "\n",
    "            # Message for printing.\n",
    "            msg = \"Iteration: {0:>6}, Training Loss: {1:>1.6}, Training Accuracy: {2:>6.1%}\"\n",
    "\n",
    "            # Print it.\n",
    "            print(msg.format(i + 1, los, acc))\n",
    "            \n",
    "\n",
    "    # Update the total number of iterations performed.\n",
    "    total_iterations += num_iterations\n",
    "    \n",
    "    # Plot loss\n",
    "    plt.plot(loss_list)\n",
    "    plt.ylabel('Train Loss')\n",
    "    plt.show()\n",
    "    \n",
    "    # Plot acc\n",
    "    plt.plot(acc_list)\n",
    "    plt.ylabel('Train Acc')\n",
    "    plt.show()\n",
    "    "
   ]
  },
  {
   "cell_type": "code",
   "execution_count": 28,
   "metadata": {},
   "outputs": [],
   "source": [
    "# Split the test-set into smaller batches of this size.\n",
    "test_batch_size = 256\n",
    "\n",
    "def print_test_accuracy():\n",
    "\n",
    "    # Number of images in the test-set.\n",
    "    num_test = len(data.test.images)\n",
    "\n",
    "    # Allocate an array for the predicted classes which\n",
    "    # will be calculated in batches and filled into this array.\n",
    "    cls_pred = np.zeros(shape=num_test, dtype=np.int)\n",
    "\n",
    "    # Now calculate the predicted classes for the batches.\n",
    "    # We will just iterate through all the batches.\n",
    "    # There might be a more clever and Pythonic way of doing this.\n",
    "\n",
    "    # The starting index for the next batch is denoted i.\n",
    "    i = 0\n",
    "\n",
    "    while i < num_test:\n",
    "        # The ending index for the next batch is denoted j.\n",
    "        j = min(i + test_batch_size, num_test)\n",
    "\n",
    "        # Get the images from the test-set between index i and j.\n",
    "        images = data.test.images[i:j, :]\n",
    "\n",
    "        # Get the associated labels.\n",
    "        labels = data.test.labels[i:j, :]\n",
    "\n",
    "        # Create a feed-dict with these images and labels.\n",
    "        feed_dict = {x: images,\n",
    "                     y_true: labels}\n",
    "\n",
    "        # Calculate the predicted class using TensorFlow.\n",
    "        cls_pred[i:j] = session.run(y_pred_cls, feed_dict=feed_dict)\n",
    "\n",
    "        # Set the start-index for the next batch to the\n",
    "        # end-index of the current batch.\n",
    "        i = j\n",
    "\n",
    "    # Convenience variable for the true class-numbers of the test-set.\n",
    "    cls_true = data.test.cls\n",
    "    \n",
    "    # Create a boolean array whether each image is correctly classified.\n",
    "    correct = (cls_true == cls_pred)\n",
    "\n",
    "    # Calculate the number of correctly classified images.\n",
    "    # When summing a boolean array, False means 0 and True means 1.\n",
    "    correct_sum = correct.sum()\n",
    "\n",
    "    # Classification accuracy is the number of correctly classified\n",
    "    # images divided by the total number of images in the test-set.\n",
    "    acc = float(correct_sum) / num_test\n",
    "\n",
    "    # Print the accuracy.\n",
    "    msg = \"Accuracy on Test-Set: {0:.1%} ({1} / {2})\"\n",
    "    print(msg.format(acc, correct_sum, num_test))"
   ]
  },
  {
   "cell_type": "code",
   "execution_count": 29,
   "metadata": {},
   "outputs": [
    {
     "name": "stdout",
     "output_type": "stream",
     "text": [
      "Iteration:      1, Training Loss: 2.27114, Training Accuracy:  20.3%\n",
      "Iteration:     11, Training Loss: 2.21213, Training Accuracy:  28.1%\n",
      "Iteration:     21, Training Loss: 2.11442, Training Accuracy:  50.0%\n",
      "Iteration:     31, Training Loss: 2.06747, Training Accuracy:  65.6%\n",
      "Iteration:     41, Training Loss: 1.95876, Training Accuracy:  56.2%\n",
      "Iteration:     51, Training Loss: 1.783, Training Accuracy:  70.3%\n",
      "Iteration:     61, Training Loss: 1.69977, Training Accuracy:  75.0%\n",
      "Iteration:     71, Training Loss: 1.3801, Training Accuracy:  78.1%\n",
      "Iteration:     81, Training Loss: 1.36977, Training Accuracy:  70.3%\n",
      "Iteration:     91, Training Loss: 1.2068, Training Accuracy:  76.6%\n",
      "Iteration:    101, Training Loss: 0.950422, Training Accuracy:  87.5%\n",
      "Iteration:    111, Training Loss: 1.01781, Training Accuracy:  70.3%\n",
      "Iteration:    121, Training Loss: 0.673728, Training Accuracy:  79.7%\n",
      "Iteration:    131, Training Loss: 0.775756, Training Accuracy:  76.6%\n",
      "Iteration:    141, Training Loss: 0.491157, Training Accuracy:  92.2%\n",
      "Iteration:    151, Training Loss: 0.658861, Training Accuracy:  84.4%\n",
      "Iteration:    161, Training Loss: 0.709914, Training Accuracy:  81.2%\n",
      "Iteration:    171, Training Loss: 0.584833, Training Accuracy:  81.2%\n",
      "Iteration:    181, Training Loss: 0.579075, Training Accuracy:  79.7%\n",
      "Iteration:    191, Training Loss: 0.400077, Training Accuracy:  87.5%\n",
      "Iteration:    201, Training Loss: 0.57336, Training Accuracy:  85.9%\n",
      "Iteration:    211, Training Loss: 0.417193, Training Accuracy:  87.5%\n",
      "Iteration:    221, Training Loss: 0.350565, Training Accuracy:  92.2%\n",
      "Iteration:    231, Training Loss: 0.488484, Training Accuracy:  85.9%\n",
      "Iteration:    241, Training Loss: 0.494967, Training Accuracy:  85.9%\n",
      "Iteration:    251, Training Loss: 0.380126, Training Accuracy:  87.5%\n",
      "Iteration:    261, Training Loss: 0.358659, Training Accuracy:  89.1%\n",
      "Iteration:    271, Training Loss: 0.409793, Training Accuracy:  84.4%\n",
      "Iteration:    281, Training Loss: 0.393163, Training Accuracy:  84.4%\n",
      "Iteration:    291, Training Loss: 0.418978, Training Accuracy:  85.9%\n",
      "Iteration:    301, Training Loss: 0.430107, Training Accuracy:  90.6%\n",
      "Iteration:    311, Training Loss: 0.379886, Training Accuracy:  84.4%\n",
      "Iteration:    321, Training Loss: 0.190974, Training Accuracy:  93.8%\n",
      "Iteration:    331, Training Loss: 0.502326, Training Accuracy:  87.5%\n",
      "Iteration:    341, Training Loss: 0.377128, Training Accuracy:  90.6%\n",
      "Iteration:    351, Training Loss: 0.379915, Training Accuracy:  85.9%\n",
      "Iteration:    361, Training Loss: 0.289966, Training Accuracy:  93.8%\n",
      "Iteration:    371, Training Loss: 0.205058, Training Accuracy:  93.8%\n",
      "Iteration:    381, Training Loss: 0.318404, Training Accuracy:  90.6%\n",
      "Iteration:    391, Training Loss: 0.278598, Training Accuracy:  93.8%\n",
      "Iteration:    401, Training Loss: 0.397796, Training Accuracy:  87.5%\n",
      "Iteration:    411, Training Loss: 0.483145, Training Accuracy:  82.8%\n",
      "Iteration:    421, Training Loss: 0.237539, Training Accuracy:  92.2%\n",
      "Iteration:    431, Training Loss: 0.368346, Training Accuracy:  87.5%\n",
      "Iteration:    441, Training Loss: 0.282945, Training Accuracy:  87.5%\n",
      "Iteration:    451, Training Loss: 0.220234, Training Accuracy:  93.8%\n",
      "Iteration:    461, Training Loss: 0.32921, Training Accuracy:  95.3%\n",
      "Iteration:    471, Training Loss: 0.128339, Training Accuracy:  96.9%\n",
      "Iteration:    481, Training Loss: 0.287427, Training Accuracy:  87.5%\n",
      "Iteration:    491, Training Loss: 0.135726, Training Accuracy:  98.4%\n",
      "Iteration:    501, Training Loss: 0.230753, Training Accuracy:  93.8%\n",
      "Iteration:    511, Training Loss: 0.278846, Training Accuracy:  92.2%\n",
      "Iteration:    521, Training Loss: 0.421748, Training Accuracy:  84.4%\n",
      "Iteration:    531, Training Loss: 0.291787, Training Accuracy:  92.2%\n",
      "Iteration:    541, Training Loss: 0.208597, Training Accuracy:  93.8%\n",
      "Iteration:    551, Training Loss: 0.199011, Training Accuracy:  93.8%\n",
      "Iteration:    561, Training Loss: 0.239954, Training Accuracy:  90.6%\n",
      "Iteration:    571, Training Loss: 0.32638, Training Accuracy:  90.6%\n",
      "Iteration:    581, Training Loss: 0.260948, Training Accuracy:  93.8%\n",
      "Iteration:    591, Training Loss: 0.324328, Training Accuracy:  89.1%\n",
      "Iteration:    601, Training Loss: 0.149495, Training Accuracy:  95.3%\n",
      "Iteration:    611, Training Loss: 0.246129, Training Accuracy:  93.8%\n",
      "Iteration:    621, Training Loss: 0.194681, Training Accuracy:  95.3%\n",
      "Iteration:    631, Training Loss: 0.240182, Training Accuracy:  93.8%\n",
      "Iteration:    641, Training Loss: 0.265008, Training Accuracy:  92.2%\n",
      "Iteration:    651, Training Loss: 0.210091, Training Accuracy:  93.8%\n",
      "Iteration:    661, Training Loss: 0.160212, Training Accuracy:  98.4%\n",
      "Iteration:    671, Training Loss: 0.11299, Training Accuracy:  96.9%\n",
      "Iteration:    681, Training Loss: 0.176075, Training Accuracy:  93.8%\n",
      "Iteration:    691, Training Loss: 0.139651, Training Accuracy:  95.3%\n",
      "Iteration:    701, Training Loss: 0.197897, Training Accuracy:  92.2%\n",
      "Iteration:    711, Training Loss: 0.315068, Training Accuracy:  85.9%\n",
      "Iteration:    721, Training Loss: 0.27477, Training Accuracy:  90.6%\n",
      "Iteration:    731, Training Loss: 0.205264, Training Accuracy:  93.8%\n",
      "Iteration:    741, Training Loss: 0.342537, Training Accuracy:  93.8%\n",
      "Iteration:    751, Training Loss: 0.274042, Training Accuracy:  87.5%\n",
      "Iteration:    761, Training Loss: 0.163989, Training Accuracy:  95.3%\n",
      "Iteration:    771, Training Loss: 0.236158, Training Accuracy:  93.8%\n",
      "Iteration:    781, Training Loss: 0.0984647, Training Accuracy:  98.4%\n",
      "Iteration:    791, Training Loss: 0.08732, Training Accuracy: 100.0%\n"
     ]
    },
    {
     "data": {
      "image/png": "[encoded data removed]",
      "text/plain": [
       "<Figure size 432x288 with 1 Axes>"
      ]
     },
     "metadata": {
      "needs_background": "light"
     },
     "output_type": "display_data"
    },
    {
     "data": {
      "image/png": "[encoded data removed]",
      "text/plain": [
       "<Figure size 432x288 with 1 Axes>"
      ]
     },
     "metadata": {
      "needs_background": "light"
     },
     "output_type": "display_data"
    },
    {
     "name": "stdout",
     "output_type": "stream",
     "text": [
      "CPU times: user 3min, sys: 8.77 s, total: 3min 8s\n",
      "Wall time: 22.1 s\n"
     ]
    }
   ],
   "source": [
    "%%time\n",
    "optimize(num_iterations=800) # We already performed 1 iteration above.\n",
    "#plt(loss_list)"
   ]
  },
  {
   "cell_type": "code",
   "execution_count": null,
   "metadata": {},
   "outputs": [],
   "source": []
  },
  {
   "cell_type": "code",
   "execution_count": 30,
   "metadata": {},
   "outputs": [
    {
     "name": "stdout",
     "output_type": "stream",
     "text": [
      "Accuracy on Test-Set: 93.7% (9366 / 10000)\n"
     ]
    }
   ],
   "source": [
    "print_test_accuracy()"
   ]
  },
  {
   "cell_type": "code",
   "execution_count": 31,
   "metadata": {},
   "outputs": [],
   "source": [
    "def plot_conv_weights(weights, input_channel=0):\n",
    "    # Assume weights are TensorFlow ops for 4-dim variables\n",
    "    # e.g. weights_conv1 or weights_conv2.\n",
    "    \n",
    "    # Retrieve the values of the weight-variables from TensorFlow.\n",
    "    # A feed-dict is not necessary because nothing is calculated.\n",
    "    w = session.run(weights)\n",
    "\n",
    "    # Get the lowest and highest values for the weights.\n",
    "    # This is used to correct the colour intensity across\n",
    "    # the images so they can be compared with each other.\n",
    "    w_min = np.min(w)\n",
    "    w_max = np.max(w)\n",
    "\n",
    "    # Number of filters used in the conv. layer.\n",
    "    num_filters = w.shape[3]\n",
    "\n",
    "    # Number of grids to plot.\n",
    "    # Rounded-up, square-root of the number of filters.\n",
    "    num_grids = math.ceil(math.sqrt(num_filters))\n",
    "    \n",
    "    # Create figure with a grid of sub-plots.\n",
    "    fig, axes = plt.subplots(num_grids, num_grids)\n",
    "\n",
    "    # Plot all the filter-weights.\n",
    "    for i, ax in enumerate(axes.flat):\n",
    "        # Only plot the valid filter-weights.\n",
    "        if i<num_filters:\n",
    "            # Get the weights for the i'th filter of the input channel.\n",
    "            # See new_conv_layer() for details on the format\n",
    "            # of this 4-dim tensor.\n",
    "            img = w[:, :, input_channel, i]\n",
    "\n",
    "            # Plot image.\n",
    "            ax.imshow(img, vmin=w_min, vmax=w_max,\n",
    "                      interpolation='nearest', cmap='seismic')\n",
    "        \n",
    "        # Remove ticks from the plot.\n",
    "        ax.set_xticks([])\n",
    "        ax.set_yticks([])\n",
    "    \n",
    "    # Ensure the plot is shown correctly with multiple plots\n",
    "    # in a single Notebook cell.\n",
    "    plt.show()"
   ]
  },
  {
   "cell_type": "code",
   "execution_count": 32,
   "metadata": {},
   "outputs": [],
   "source": [
    "from sklearn.decomposition import PCA\n",
    "def plot_fc_weights(weights_list):\n",
    "    # Assume weights in weights_list are TensorFlow ops for 2-dim variables\n",
    "    \n",
    "    # Retrieve the values of the weight-variables from TensorFlow.\n",
    "    # A feed-dict is not necessary because nothing is calculated.\n",
    "    w_list = session.run(weights_list)\n",
    "    \n",
    "    pca = PCA(n_components=2)\n",
    "    \n",
    "    fig = plt.figure(figsize = (8,8))\n",
    "    ax = fig.add_subplot(1,1,1) \n",
    "    ax.set_xlabel('Principal Component 1', fontsize = 15)\n",
    "    ax.set_ylabel('Principal Component 2', fontsize = 15)\n",
    "    ax.set_title('2 component PCA', fontsize = 20)\n",
    "    \n",
    "    for w in w_list:\n",
    "            \n",
    "        print(w.shape)\n",
    "\n",
    "        principalComponents = pca.fit_transform(w)\n",
    "\n",
    "        ax.scatter(principalComponents[:,0], principalComponents[:,1], label=w.shape, alpha=0.5)\n",
    "\n",
    "    ax.legend()\n",
    "    plt.show()"
   ]
  },
  {
   "cell_type": "code",
   "execution_count": 33,
   "metadata": {},
   "outputs": [
    {
     "data": {
      "image/png": "[encoded data removed]",
      "text/plain": [
       "<Figure size 432x288 with 16 Axes>"
      ]
     },
     "metadata": {},
     "output_type": "display_data"
    }
   ],
   "source": [
    "plot_conv_weights(weights=weights_conv1)"
   ]
  },
  {
   "cell_type": "code",
   "execution_count": 34,
   "metadata": {},
   "outputs": [
    {
     "data": {
      "image/png": "[encoded data removed]",
      "text/plain": [
       "<Figure size 432x288 with 36 Axes>"
      ]
     },
     "metadata": {},
     "output_type": "display_data"
    }
   ],
   "source": [
    "plot_conv_weights(weights=weights_conv2, input_channel=0)"
   ]
  },
  {
   "cell_type": "code",
   "execution_count": 35,
   "metadata": {},
   "outputs": [
    {
     "data": {
      "image/png": "[encoded data removed]",
      "text/plain": [
       "<Figure size 432x288 with 36 Axes>"
      ]
     },
     "metadata": {},
     "output_type": "display_data"
    }
   ],
   "source": [
    "plot_conv_weights(weights=weights_conv2, input_channel=1)"
   ]
  },
  {
   "cell_type": "code",
   "execution_count": 36,
   "metadata": {},
   "outputs": [
    {
     "name": "stdout",
     "output_type": "stream",
     "text": [
      "(1764, 128)\n",
      "(128, 10)\n"
     ]
    },
    {
     "data": {
      "image/png": "[encoded data removed]",
      "text/plain": [
       "<Figure size 576x576 with 1 Axes>"
      ]
     },
     "metadata": {
      "needs_background": "light"
     },
     "output_type": "display_data"
    }
   ],
   "source": [
    "plot_fc_weights(weights_list=[weights_fc1, weights_fc_out])"
   ]
  }
 ],
 "metadata": {
  "kernelspec": {
   "display_name": "tensorflow",
   "language": "python",
   "name": "tensorflow"
  },
  "language_info": {
   "codemirror_mode": {
    "name": "ipython",
    "version": 3
   },
   "file_extension": ".py",
   "mimetype": "text/x-python",
   "name": "python",
   "nbconvert_exporter": "python",
   "pygments_lexer": "ipython3",
   "version": "3.6.2"
  }
 },
 "nbformat": 4,
 "nbformat_minor": 2
}
