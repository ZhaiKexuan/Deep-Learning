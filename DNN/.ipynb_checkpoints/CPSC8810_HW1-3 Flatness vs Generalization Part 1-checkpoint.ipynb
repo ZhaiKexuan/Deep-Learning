{
 "cells": [
  {
   "cell_type": "markdown",
   "metadata": {},
   "source": [
    "# ** CPSC8810_HW1-3 Flatness vs Generalization Part 1 **"
   ]
  },
  {
   "cell_type": "code",
   "execution_count": 1,
   "metadata": {},
   "outputs": [],
   "source": [
    "import tensorflow as tf\n",
    "import cv2\n",
    "from tensorflow.examples.tutorials.mnist import input_data\n",
    "from sklearn.decomposition import PCA\n",
    "\n",
    "tf.__version__\n",
    "import numpy as np\n",
    "%matplotlib inline\n",
    "import matplotlib.pyplot as plt"
   ]
  },
  {
   "cell_type": "markdown",
   "metadata": {},
   "source": [
    "## MNIST Dataset Preparation"
   ]
  },
  {
   "cell_type": "code",
   "execution_count": 2,
   "metadata": {},
   "outputs": [
    {
     "name": "stdout",
     "output_type": "stream",
     "text": [
      "WARNING:tensorflow:From <ipython-input-2-622b25771082>:1: read_data_sets (from tensorflow.contrib.learn.python.learn.datasets.mnist) is deprecated and will be removed in a future version.\n",
      "Instructions for updating:\n",
      "Please use alternatives such as official/mnist/dataset.py from tensorflow/models.\n",
      "WARNING:tensorflow:From /home/kzhai/.conda/envs/tensorflow/lib/python3.6/site-packages/tensorflow_core/contrib/learn/python/learn/datasets/mnist.py:260: maybe_download (from tensorflow.contrib.learn.python.learn.datasets.base) is deprecated and will be removed in a future version.\n",
      "Instructions for updating:\n",
      "Please write your own downloading logic.\n",
      "WARNING:tensorflow:From /home/kzhai/.conda/envs/tensorflow/lib/python3.6/site-packages/tensorflow_core/contrib/learn/python/learn/datasets/mnist.py:262: extract_images (from tensorflow.contrib.learn.python.learn.datasets.mnist) is deprecated and will be removed in a future version.\n",
      "Instructions for updating:\n",
      "Please use tf.data to implement this functionality.\n",
      "Extracting data/MNIST/train-images-idx3-ubyte.gz\n",
      "WARNING:tensorflow:From /home/kzhai/.conda/envs/tensorflow/lib/python3.6/site-packages/tensorflow_core/contrib/learn/python/learn/datasets/mnist.py:267: extract_labels (from tensorflow.contrib.learn.python.learn.datasets.mnist) is deprecated and will be removed in a future version.\n",
      "Instructions for updating:\n",
      "Please use tf.data to implement this functionality.\n",
      "Extracting data/MNIST/train-labels-idx1-ubyte.gz\n",
      "WARNING:tensorflow:From /home/kzhai/.conda/envs/tensorflow/lib/python3.6/site-packages/tensorflow_core/contrib/learn/python/learn/datasets/mnist.py:110: dense_to_one_hot (from tensorflow.contrib.learn.python.learn.datasets.mnist) is deprecated and will be removed in a future version.\n",
      "Instructions for updating:\n",
      "Please use tf.one_hot on tensors.\n",
      "Extracting data/MNIST/t10k-images-idx3-ubyte.gz\n",
      "Extracting data/MNIST/t10k-labels-idx1-ubyte.gz\n",
      "WARNING:tensorflow:From /home/kzhai/.conda/envs/tensorflow/lib/python3.6/site-packages/tensorflow_core/contrib/learn/python/learn/datasets/mnist.py:290: DataSet.__init__ (from tensorflow.contrib.learn.python.learn.datasets.mnist) is deprecated and will be removed in a future version.\n",
      "Instructions for updating:\n",
      "Please use alternatives such as official/mnist/dataset.py from tensorflow/models.\n",
      "Training Dataset Size: 55000\n",
      "Validation Dataset Size: 5000\n",
      "Testing Dataset Size: 10000\n"
     ]
    }
   ],
   "source": [
    "data = input_data.read_data_sets('data/MNIST/', one_hot=True);\n",
    "\n",
    "train_num = data.train.num_examples\n",
    "valid_num = data.validation.num_examples\n",
    "test_num = data.test.num_examples\n",
    "img_flatten = 784\n",
    "img_size = 28\n",
    "num_classes = 10\n",
    "print(\"Training Dataset Size:\",train_num)\n",
    "print(\"Validation Dataset Size:\",valid_num)\n",
    "print(\"Testing Dataset Size:\",test_num)"
   ]
  },
  {
   "cell_type": "markdown",
   "metadata": {},
   "source": [
    "### Weights Functions"
   ]
  },
  {
   "cell_type": "code",
   "execution_count": 4,
   "metadata": {},
   "outputs": [],
   "source": [
    "def get_weights_variable(layer_name):\n",
    "    # Retrieve an existing variable named 'kernel' in the scope\n",
    "    # with the given layer_name.\n",
    "    # This is awkward because the TensorFlow function was\n",
    "    # really intended for another purpose.\n",
    "    with tf.variable_scope(layer_name, reuse=True):\n",
    "        weights = tf.get_variable('kernel')\n",
    "    return weights\n",
    "\n",
    "def get_bias_variable(layer_name):\n",
    "    with tf.variable_scope(layer_name,reuse=True):\n",
    "        bias = tf.get_variable('bias')\n",
    "    return bias"
   ]
  },
  {
   "cell_type": "markdown",
   "metadata": {},
   "source": [
    "___\n",
    "# Batch Size Comparison"
   ]
  },
  {
   "cell_type": "markdown",
   "metadata": {},
   "source": [
    "## Model 1 Architecture"
   ]
  },
  {
   "cell_type": "code",
   "execution_count": 5,
   "metadata": {},
   "outputs": [
    {
     "name": "stdout",
     "output_type": "stream",
     "text": [
      "WARNING:tensorflow:From <ipython-input-5-550159cd6b54>:5: calling argmax (from tensorflow.python.ops.math_ops) with dimension is deprecated and will be removed in a future version.\n",
      "Instructions for updating:\n",
      "Use the `axis` argument instead\n",
      "WARNING:tensorflow:From <ipython-input-5-550159cd6b54>:8: conv2d (from tensorflow.python.layers.convolutional) is deprecated and will be removed in a future version.\n",
      "Instructions for updating:\n",
      "Use `tf.keras.layers.Conv2D` instead.\n",
      "WARNING:tensorflow:From /home/kzhai/.conda/envs/tensorflow/lib/python3.6/site-packages/tensorflow_core/python/layers/convolutional.py:424: Layer.apply (from tensorflow.python.keras.engine.base_layer) is deprecated and will be removed in a future version.\n",
      "Instructions for updating:\n",
      "Please use `layer.__call__` method instead.\n",
      "WARNING:tensorflow:From <ipython-input-5-550159cd6b54>:9: max_pooling2d (from tensorflow.python.layers.pooling) is deprecated and will be removed in a future version.\n",
      "Instructions for updating:\n",
      "Use keras.layers.MaxPooling2D instead.\n",
      "WARNING:tensorflow:From <ipython-input-5-550159cd6b54>:12: flatten (from tensorflow.python.layers.core) is deprecated and will be removed in a future version.\n",
      "Instructions for updating:\n",
      "Use keras.layers.flatten instead.\n",
      "WARNING:tensorflow:From <ipython-input-5-550159cd6b54>:13: dense (from tensorflow.python.layers.core) is deprecated and will be removed in a future version.\n",
      "Instructions for updating:\n",
      "Use keras.layers.Dense instead.\n",
      "WARNING:tensorflow:From <ipython-input-5-550159cd6b54>:15: softmax_cross_entropy_with_logits (from tensorflow.python.ops.nn_ops) is deprecated and will be removed in a future version.\n",
      "Instructions for updating:\n",
      "\n",
      "Future major versions of TensorFlow will allow gradients to flow\n",
      "into the labels input on backprop by default.\n",
      "\n",
      "See `tf.nn.softmax_cross_entropy_with_logits_v2`.\n",
      "\n"
     ]
    }
   ],
   "source": [
    "tf.reset_default_graph()\n",
    "x = tf.placeholder(tf.float32, shape=[None, img_flatten], name='x')\n",
    "input_x = tf.reshape(x,[-1,img_size,img_size,1])\n",
    "y = tf.placeholder(tf.float32, shape=[None, num_classes], name='y')\n",
    "y_cls = tf.argmax(y,dimension=1)\n",
    "\n",
    "### Model 1 Architecture\n",
    "m1_conv1 = tf.layers.conv2d(inputs=input_x,filters=4,kernel_size=4,padding=\"same\",activation=tf.nn.relu,name='m1_conv1');\n",
    "m1_pool1 = tf.layers.max_pooling2d(inputs=m1_conv1,pool_size=2,strides=2);\n",
    "#m1_conv2 = tf.layers.conv2d(inputs=m1_pool1,filters=16,kernel_size=5,padding=\"same\",activation=tf.nn.relu,name='m1_conv2');\n",
    "#m1_pool2 = tf.layers.max_pooling2d(inputs=m1_conv2,pool_size=2,strides=2);\n",
    "m1_flat1 = tf.layers.flatten(m1_pool1);\n",
    "m1_fc1 = tf.layers.dense(inputs=m1_flat1,units=128,activation=tf.nn.relu,name='m1_fc1');\n",
    "m1_logits = tf.layers.dense(inputs=m1_fc1,units=num_classes,activation=None,name='m1_fc_out');\n",
    "m1_cross_entropy = tf.nn.softmax_cross_entropy_with_logits(labels=y,logits=m1_logits);\n",
    "m1_loss = tf.reduce_mean(m1_cross_entropy);\n",
    "m1_softmax = tf.nn.softmax(logits=m1_logits);\n",
    "m1_pred_op = tf.argmax(m1_softmax,dimension=1);\n",
    "m1_acc_op = tf.reduce_mean(tf.cast(tf.equal(m1_pred_op, y_cls), tf.float32));\n",
    "m1_optimizer = tf.train.AdamOptimizer(learning_rate=0.001);\n",
    "m1_train_op = m1_optimizer.minimize(m1_loss);"
   ]
  },
  {
   "cell_type": "markdown",
   "metadata": {},
   "source": [
    "## Model 2 Architecture"
   ]
  },
  {
   "cell_type": "code",
   "execution_count": null,
   "metadata": {},
   "outputs": [],
   "source": [
    "### Model 2 Architecture\n",
    "m2_conv1 = tf.layers.conv2d(inputs=input_x,filters=4,kernel_size=4,padding=\"same\",activation=tf.nn.relu,name='m2_conv1');\n",
    "m2_pool1 = tf.layers.max_pooling2d(inputs=m2_conv1,pool_size=2,strides=2);\n",
    "#m2_conv2 = tf.layers.conv2d(inputs=m2_pool1,filters=8,kernel_size=5,padding=\"same\",activation=tf.nn.relu,name='m2_conv2');\n",
    "#m2_pool2 = tf.layers.max_pooling2d(inputs=m2_conv2,pool_size=2,strides=2);\n",
    "m2_flat1 = tf.layers.flatten(m2_pool1);\n",
    "m2_fc1 = tf.layers.dense(inputs=m2_flat1,units=128,activation=tf.nn.relu,name='m2_fc1');\n",
    "m2_logits = tf.layers.dense(inputs=m2_fc1,units=num_classes,activation=None,name='m2_fc_out');\n",
    "m2_cross_entropy = tf.nn.softmax_cross_entropy_with_logits(labels=y,logits=m2_logits);\n",
    "m2_loss = tf.reduce_mean(m2_cross_entropy);\n",
    "m2_softmax = tf.nn.softmax(logits=m2_logits);\n",
    "m2_pred_op = tf.argmax(m2_softmax,dimension=1);\n",
    "m2_acc_op = tf.reduce_mean(tf.cast(tf.equal(m2_pred_op, y_cls), tf.float32));\n",
    "m2_optimizer = tf.train.AdamOptimizer(learning_rate=0.001);\n",
    "m2_train_op = m2_optimizer.minimize(m2_loss);"
   ]
  },
  {
   "cell_type": "markdown",
   "metadata": {},
   "source": [
    "### Weights and Bias"
   ]
  },
  {
   "cell_type": "code",
   "execution_count": 6,
   "metadata": {},
   "outputs": [],
   "source": [
    "m1_weights_conv1 = get_weights_variable('m1_conv1')\n",
    "#m1_weights_conv2 = get_weights_variable('m1_conv2')\n",
    "m1_weights_fc1 = get_weights_variable('m1_fc1')\n",
    "m1_weights_fc_out = get_weights_variable('m1_fc_out')\n",
    "\n",
    "m1_bias_conv1 = get_bias_variable('m1_conv1')\n",
    "#m1_bias_conv2 = get_bias_variable('m1_conv2')\n",
    "m1_bias_fc1 = get_bias_variable('m1_fc1')\n",
    "m1_bias_fc_out = get_bias_variable('m1_fc_out')\n",
    "\n",
    "m2_weights_conv1 = get_weights_variable('m2_conv1')\n",
    "#m2_weights_conv2 = get_weights_variable('m2_conv2')\n",
    "m2_weights_fc1 = get_weights_variable('m2_fc1')\n",
    "m2_weights_fc_out = get_weights_variable('m2_fc_out')\n",
    "\n",
    "m2_bias_conv1 = get_bias_variable('m2_conv1')\n",
    "#m2_bias_conv2 = get_bias_variable('m2_conv2')\n",
    "m2_bias_fc1 = get_bias_variable('m2_fc1')\n",
    "m2_bias_fc_out = get_bias_variable('m2_fc_out')"
   ]
  },
  {
   "cell_type": "markdown",
   "metadata": {},
   "source": [
    "### Training Model 1"
   ]
  },
  {
   "cell_type": "code",
   "execution_count": 7,
   "metadata": {},
   "outputs": [
    {
     "name": "stdout",
     "output_type": "stream",
     "text": [
      "Epoch:      0, Training Loss: 0.0939013, Training Accuracy:  96.9%, Test Loss: 0.123545, Test Accuracy:  96.1%\n"
     ]
    }
   ],
   "source": [
    "session = tf.Session()\n",
    "session.run(tf.global_variables_initializer())\n",
    "\n",
    "train_loss_list1 = []\n",
    "train_acc_list1 = []\n",
    "test_loss_list1 = []\n",
    "test_acc_list1 = []\n",
    "\n",
    "BATCH_SIZE = 64\n",
    "EPOCH = 1\n",
    "for i in range(EPOCH):\n",
    "    for j in range(int(data.train.num_examples/BATCH_SIZE)):\n",
    "        x_batch, y_true_batch = data.train.next_batch(BATCH_SIZE)\n",
    "        session.run(m1_train_op, feed_dict={x: x_batch,y: y_true_batch})\n",
    "    train_loss, train_acc = session.run([m1_loss,m1_acc_op],feed_dict={x:x_batch,y:y_true_batch})\n",
    "    train_loss_list1.append(train_loss)\n",
    "    train_acc_list1.append(train_acc)\n",
    "    test_loss, test_acc = session.run([m1_loss,m1_acc_op],feed_dict={x:data.test.images,y:data.test.labels})\n",
    "    test_loss_list1.append(test_loss)\n",
    "    test_acc_list1.append(test_acc)\n",
    "    msg = \"Epoch: {0:>6}, Training Loss: {1:>1.6}, Training Accuracy: {2:>6.1%}, Test Loss: {3:>1.6}, Test Accuracy: {4:>6.1%}\"\n",
    "    print(msg.format(i, train_loss, train_acc, test_loss, test_acc))\n",
    "\n",
    "m1_w_conv1,m1_w_fc1,m1_w_fc_out = session.run([m1_weights_conv1,m1_weights_fc1,m1_weights_fc_out])\n",
    "m1_b_conv1,m1_b_fc1,m1_b_fc_out = session.run([m1_bias_conv1,m1_bias_fc1,m1_bias_fc_out])"
   ]
  },
  {
   "cell_type": "markdown",
   "metadata": {},
   "source": [
    "### Training Model 2"
   ]
  },
  {
   "cell_type": "code",
   "execution_count": 8,
   "metadata": {},
   "outputs": [
    {
     "name": "stdout",
     "output_type": "stream",
     "text": [
      "Epoch:      0, Training Loss: 0.354902, Training Accuracy:  89.2%, Test Loss: 0.348311, Test Accuracy:  90.5%\n"
     ]
    }
   ],
   "source": [
    "train_loss_list2 = []\n",
    "train_acc_list2 = []\n",
    "test_loss_list2 = []\n",
    "test_acc_list2 = []\n",
    "\n",
    "BATCH_SIZE = 1024\n",
    "EPOCH = 1\n",
    "for i in range(EPOCH):\n",
    "    for j in range(int(data.train.num_examples/BATCH_SIZE)):\n",
    "        x_batch, y_true_batch = data.train.next_batch(BATCH_SIZE)\n",
    "        session.run(m2_train_op, feed_dict={x: x_batch,y: y_true_batch})\n",
    "    train_loss, train_acc = session.run([m2_loss,m2_acc_op],feed_dict={x:x_batch,y:y_true_batch})\n",
    "    train_loss_list1.append(train_loss)\n",
    "    train_acc_list1.append(train_acc)\n",
    "    test_loss, test_acc = session.run([m2_loss,m2_acc_op],feed_dict={x:data.test.images,y:data.test.labels})\n",
    "    test_loss_list1.append(test_loss)\n",
    "    test_acc_list1.append(test_acc)\n",
    "    msg = \"Epoch: {0:>6}, Training Loss: {1:>1.6}, Training Accuracy: {2:>6.1%}, Test Loss: {3:>1.6}, Test Accuracy: {4:>6.1%}\"\n",
    "    print(msg.format(i, train_loss, train_acc, test_loss, test_acc))\n",
    "    \n",
    "m2_w_conv1,m2_w_fc1,m2_w_fc_out = session.run([m2_weights_conv1,m2_weights_fc1,m2_weights_fc_out])\n",
    "m2_b_conv1,m2_b_fc1,m2_b_fc_out = session.run([m2_bias_conv1,m2_bias_fc1,m2_bias_fc_out])"
   ]
  },
  {
   "cell_type": "code",
   "execution_count": 14,
   "metadata": {},
   "outputs": [
    {
     "data": {
      "text/plain": [
       "(4, 4, 1, 4)"
      ]
     },
     "execution_count": 14,
     "metadata": {},
     "output_type": "execute_result"
    }
   ],
   "source": [
    "m2_w_conv1.shape\n",
    "#m2_w_fc1.shape"
   ]
  },
  {
   "cell_type": "markdown",
   "metadata": {},
   "source": [
    "### Run model 3"
   ]
  },
  {
   "cell_type": "code",
   "execution_count": 15,
   "metadata": {},
   "outputs": [],
   "source": [
    "tf.reset_default_graph()\n",
    "x = tf.placeholder(tf.float32, shape=[None, img_flatten], name='x')\n",
    "input_x = tf.reshape(x,[-1,img_size,img_size,1])\n",
    "y = tf.placeholder(tf.float32, shape=[None, num_classes], name='y')\n",
    "y_cls = tf.argmax(y,dimension=1)\n",
    "\n",
    "train_loss_list = []\n",
    "test_loss_list = []\n",
    "train_acc_list = []\n",
    "test_acc_list = []\n",
    "\n",
    "m3_w_conv1 = tf.placeholder(tf.float32,shape=[4,4,1,4])\n",
    "m3_b_conv1 = tf.placeholder(tf.float32,shape=[4])\n",
    "#m3_w_conv2 = tf.placeholder(tf.float32,shape=[5,5,8,16])\n",
    "#m3_b_conv2 = tf.placeholder(tf.float32,shape=[16])\n",
    "m3_w_fc1 = tf.placeholder(tf.float32,shape=[784,128])\n",
    "m3_b_fc1 = tf.placeholder(tf.float32,shape=[128])\n",
    "m3_w_fc_out = tf.placeholder(tf.float32,shape=[128,10])\n",
    "m3_b_fc_out = tf.placeholder(tf.float32,shape=[10])\n",
    "\n",
    "m3_conv1 = tf.nn.conv2d(input_x,filters=m3_w_conv1,padding='SAME')\n",
    "m3_conv1 = tf.nn.relu(tf.nn.bias_add(m3_conv1,m3_b_conv1))\n",
    "m3_pool1 = tf.nn.max_pool2d(m3_conv1,2,2,'SAME')\n",
    "#m3_conv2 = tf.nn.conv2d(m3_pool1,m3_w_conv2,padding='SAME')\n",
    "#m3_conv2 = tf.nn.relu(tf.nn.bias_add(m3_conv2,m3_b_conv2))\n",
    "#m3_pool2 = tf.nn.max_pool2d(m3_conv2,2,2,'SAME')\n",
    "m3_flat1 = tf.layers.flatten(m3_pool1)\n",
    "m3_fc1 = tf.nn.relu(tf.add(tf.matmul(m3_flat1,m3_w_fc1),m3_b_fc1))\n",
    "m3_logits = tf.add(tf.matmul(m3_fc1,m3_w_fc_out),m3_b_fc_out)\n",
    "\n",
    "m3_cross_entropy = tf.nn.softmax_cross_entropy_with_logits(labels=y,logits=m3_logits)\n",
    "m3_loss = tf.reduce_mean(m3_cross_entropy)\n",
    "\n",
    "# Accuracy\n",
    "m3_softmax = tf.nn.softmax(logits=m3_logits)\n",
    "m3_pred_op = tf.argmax(m3_softmax,dimension=1)\n",
    "m3_acc_op = tf.reduce_mean(tf.cast(tf.equal(m3_pred_op, y_cls), tf.float32))\n",
    "\n",
    "session = tf.Session()\n",
    "for alpha in np.arange(-1,2,0.05):\n",
    "    w_conv1 = (1-alpha)*m1_w_conv1 + alpha*m2_w_conv1\n",
    "    #w_conv2 = (1-alpha)*m1_w_conv2 + alpha*m2_w_conv2\n",
    "    w_fc1 = (1-alpha)*m1_w_fc1 + alpha*m2_w_fc1\n",
    "    w_fc_out = (1-alpha)*m1_w_fc_out + alpha*m2_w_fc_out\n",
    "    \n",
    "    b_conv1 = (1-alpha)*m1_b_conv1 + alpha*m2_b_conv1\n",
    "    #b_conv2 = (1-alpha)*m1_b_conv2 + alpha*m2_b_conv2\n",
    "    b_fc1 = (1-alpha)*m1_b_fc1 + alpha*m2_b_fc1\n",
    "    b_fc_out = (1-alpha)*m1_b_fc_out + alpha*m2_b_fc_out\n",
    "    \n",
    "    train_loss,train_acc = session.run([m3_loss,m3_acc_op],feed_dict={x:data.train.images,y:data.train.labels,m3_w_conv1:w_conv1, m3_w_fc1:w_fc1, m3_w_fc_out:w_fc_out,m3_b_conv1:b_conv1,m3_b_fc1:b_fc1,m3_b_fc_out:b_fc_out})\n",
    "    test_loss,test_acc = session.run([m3_loss,m3_acc_op],feed_dict={x:data.test.images,y:data.test.labels,m3_w_conv1:w_conv1, m3_w_fc1:w_fc1, m3_w_fc_out:w_fc_out,m3_b_conv1:b_conv1,m3_b_fc1:b_fc1,m3_b_fc_out:b_fc_out})\n",
    "    train_loss_list.append(train_loss)\n",
    "    test_loss_list.append(test_loss)\n",
    "    train_acc_list.append(train_acc)\n",
    "    test_acc_list.append(test_acc)"
   ]
  },
  {
   "cell_type": "markdown",
   "metadata": {},
   "source": [
    "### Result"
   ]
  },
  {
   "cell_type": "code",
   "execution_count": 16,
   "metadata": {},
   "outputs": [
    {
     "data": {
      "image/png": "[encoded data removed]",
      "text/plain": [
       "<Figure size 432x288 with 2 Axes>"
      ]
     },
     "metadata": {
      "needs_background": "light"
     },
     "output_type": "display_data"
    }
   ],
   "source": [
    "fig,axs1 = plt.subplots()\n",
    "fig.suptitle('Batch Size: 64 vs 1024')\n",
    "alpha_list = np.arange(-1,2,0.05)\n",
    "axs1.plot(alpha_list,test_acc_list,'r')\n",
    "axs1.plot(alpha_list,train_acc_list,'r--')\n",
    "axs1.legend(['test','train'])\n",
    "axs1.set_ylabel('Accuracy')\n",
    "axs1.yaxis.label.set_color('red')\n",
    "axs2 = axs1.twinx()\n",
    "axs2.plot(alpha_list,test_loss_list,'b')\n",
    "axs2.plot(alpha_list,train_loss_list,'b--')\n",
    "axs2.set_yscale('log')\n",
    "axs2.set_ylabel('Cross Entropy Loss (Log Scale)')\n",
    "axs2.yaxis.label.set_color('blue')"
   ]
  },
  {
   "cell_type": "markdown",
   "metadata": {},
   "source": [
    "___\n",
    "# Learning Rate Comparison"
   ]
  },
  {
   "cell_type": "markdown",
   "metadata": {},
   "source": [
    "## Model 1 Architecture"
   ]
  },
  {
   "cell_type": "code",
   "execution_count": 44,
   "metadata": {},
   "outputs": [],
   "source": [
    "tf.reset_default_graph()\n",
    "x = tf.placeholder(tf.float32, shape=[None, img_flatten], name='x')\n",
    "input_x = tf.reshape(x,[-1,img_size,img_size,1])\n",
    "y = tf.placeholder(tf.float32, shape=[None, num_classes], name='y')\n",
    "y_cls = tf.argmax(y,dimension=1)\n",
    "\n",
    "### Model 1 Architecture\n",
    "m1_conv1 = tf.layers.conv2d(inputs=input_x,filters=4,kernel_size=4,padding=\"same\",activation=tf.nn.relu,name='m1_conv1');\n",
    "m1_pool1 = tf.layers.max_pooling2d(inputs=m1_conv1,pool_size=2,strides=2);\n",
    "#m1_conv2 = tf.layers.conv2d(inputs=m1_pool1,filters=16,kernel_size=5,padding=\"same\",activation=tf.nn.relu,name='m1_conv2');\n",
    "#m1_pool2 = tf.layers.max_pooling2d(inputs=m1_conv2,pool_size=2,strides=2);\n",
    "m1_flat1 = tf.layers.flatten(m1_pool1);\n",
    "m1_fc1 = tf.layers.dense(inputs=m1_flat1,units=128,activation=tf.nn.relu,name='m1_fc1');\n",
    "m1_logits = tf.layers.dense(inputs=m1_fc1,units=num_classes,activation=None,name='m1_fc_out');\n",
    "m1_cross_entropy = tf.nn.softmax_cross_entropy_with_logits(labels=y,logits=m1_logits);\n",
    "m1_loss = tf.reduce_mean(m1_cross_entropy);\n",
    "m1_softmax = tf.nn.softmax(logits=m1_logits);\n",
    "m1_pred_op = tf.argmax(m1_softmax,dimension=1);\n",
    "m1_acc_op = tf.reduce_mean(tf.cast(tf.equal(m1_pred_op, y_cls), tf.float32));\n",
    "m1_optimizer = tf.train.AdamOptimizer(learning_rate=0.1);\n",
    "m1_train_op = m1_optimizer.minimize(m1_loss);"
   ]
  },
  {
   "cell_type": "markdown",
   "metadata": {},
   "source": [
    "## Model 2 Architecture"
   ]
  },
  {
   "cell_type": "code",
   "execution_count": null,
   "metadata": {},
   "outputs": [],
   "source": [
    "### Model 2 Architecture\n",
    "m2_conv1 = tf.layers.conv2d(inputs=input_x,filters=4,kernel_size=4,padding=\"same\",activation=tf.nn.relu,name='m2_conv1')\n",
    "m2_pool1 = tf.layers.max_pooling2d(inputs=m2_conv1,pool_size=2,strides=2)\n",
    "m2_flat1 = tf.layers.flatten(m2_pool1);\n",
    "m2_fc1 = tf.layers.dense(inputs=m2_flat1,units=128,activation=tf.nn.relu,name='m2_fc1')\n",
    "m2_logits = tf.layers.dense(inputs=m2_fc1,units=num_classes,activation=None,name='m2_fc_out')\n",
    "m2_cross_entropy = tf.nn.softmax_cross_entropy_with_logits(labels=y,logits=m2_logits)\n",
    "m2_loss = tf.reduce_mean(m2_cross_entropy)\n",
    "m2_softmax = tf.nn.softmax(logits=m2_logits)\n",
    "m2_pred_op = tf.argmax(m2_softmax,dimension=1)\n",
    "m2_acc_op = tf.reduce_mean(tf.cast(tf.equal(m2_pred_op, y_cls), tf.float32))\n",
    "m2_optimizer = tf.train.AdamOptimizer(learning_rate=0.0001)\n",
    "m2_train_op = m2_optimizer.minimize(m2_loss)"
   ]
  },
  {
   "cell_type": "markdown",
   "metadata": {},
   "source": [
    "### Weights & Bias"
   ]
  },
  {
   "cell_type": "code",
   "execution_count": 45,
   "metadata": {},
   "outputs": [],
   "source": [
    "m1_weights_conv1 = get_weights_variable('m1_conv1')\n",
    "#m1_weights_conv2 = get_weights_variable('m1_conv2')\n",
    "m1_weights_fc1 = get_weights_variable('m1_fc1')\n",
    "m1_weights_fc_out = get_weights_variable('m1_fc_out')\n",
    "\n",
    "m1_bias_conv1 = get_bias_variable('m1_conv1')\n",
    "#m1_bias_conv2 = get_bias_variable('m1_conv2')\n",
    "m1_bias_fc1 = get_bias_variable('m1_fc1')\n",
    "m1_bias_fc_out = get_bias_variable('m1_fc_out')\n",
    "\n",
    "m2_weights_conv1 = get_weights_variable('m2_conv1')\n",
    "#m2_weights_conv2 = get_weights_variable('m2_conv2')\n",
    "m2_weights_fc1 = get_weights_variable('m2_fc1')\n",
    "m2_weights_fc_out = get_weights_variable('m2_fc_out')\n",
    "\n",
    "m2_bias_conv1 = get_bias_variable('m2_conv1')\n",
    "#m2_bias_conv2 = get_bias_variable('m2_conv2')\n",
    "m2_bias_fc1 = get_bias_variable('m2_fc1')\n",
    "m2_bias_fc_out = get_bias_variable('m2_fc_out')"
   ]
  },
  {
   "cell_type": "markdown",
   "metadata": {},
   "source": [
    "### Training model 1"
   ]
  },
  {
   "cell_type": "code",
   "execution_count": 46,
   "metadata": {},
   "outputs": [
    {
     "name": "stdout",
     "output_type": "stream",
     "text": [
      "Epoch:      0, Training Loss: 2.27167, Training Accuracy:  10.9%, Test Loss: 2.32112, Test Accuracy:   9.7%\n"
     ]
    }
   ],
   "source": [
    "session = tf.Session()\n",
    "session.run(tf.global_variables_initializer())\n",
    "\n",
    "train_loss_list1 = []\n",
    "train_acc_list1 = []\n",
    "test_loss_list1 = []\n",
    "test_acc_list1 = []\n",
    "\n",
    "BATCH_SIZE = 64\n",
    "EPOCH = 1\n",
    "for i in range(EPOCH):\n",
    "    for j in range(int(data.train.num_examples/BATCH_SIZE)):\n",
    "        x_batch, y_true_batch = data.train.next_batch(BATCH_SIZE)\n",
    "        session.run(m1_train_op, feed_dict={x: x_batch,y: y_true_batch})\n",
    "    train_loss, train_acc = session.run([m1_loss,m1_acc_op],feed_dict={x:x_batch,y:y_true_batch})\n",
    "    train_loss_list1.append(train_loss)\n",
    "    train_acc_list1.append(train_acc)\n",
    "    test_loss, test_acc = session.run([m1_loss,m1_acc_op],feed_dict={x:data.test.images,y:data.test.labels})\n",
    "    test_loss_list1.append(test_loss)\n",
    "    test_acc_list1.append(test_acc)\n",
    "    msg = \"Epoch: {0:>6}, Training Loss: {1:>1.6}, Training Accuracy: {2:>6.1%}, Test Loss: {3:>1.6}, Test Accuracy: {4:>6.1%}\"\n",
    "    print(msg.format(i, train_loss, train_acc, test_loss, test_acc))\n",
    "\n",
    "m1_w_conv1,m1_w_fc1,m1_w_fc_out = session.run([m1_weights_conv1,m1_weights_fc1,m1_weights_fc_out])\n",
    "m1_b_conv1,m1_b_fc1,m1_b_fc_out = session.run([m1_bias_conv1,m1_bias_fc1,m1_bias_fc_out])"
   ]
  },
  {
   "cell_type": "markdown",
   "metadata": {},
   "source": [
    "### Training model 2"
   ]
  },
  {
   "cell_type": "code",
   "execution_count": 47,
   "metadata": {},
   "outputs": [
    {
     "name": "stdout",
     "output_type": "stream",
     "text": [
      "Epoch:      0, Training Loss: 0.492859, Training Accuracy:  84.4%, Test Loss: 0.343557, Test Accuracy:  91.2%\n"
     ]
    }
   ],
   "source": [
    "train_loss_list2 = []\n",
    "train_acc_list2 = []\n",
    "test_loss_list2 = []\n",
    "test_acc_list2 = []\n",
    "\n",
    "BATCH_SIZE = 64\n",
    "EPOCH = 1\n",
    "for i in range(EPOCH):\n",
    "    for j in range(int(data.train.num_examples/BATCH_SIZE)):\n",
    "        x_batch, y_true_batch = data.train.next_batch(BATCH_SIZE)\n",
    "        session.run(m2_train_op, feed_dict={x: x_batch,y: y_true_batch})\n",
    "    train_loss, train_acc = session.run([m2_loss,m2_acc_op],feed_dict={x:x_batch,y:y_true_batch})\n",
    "    train_loss_list1.append(train_loss)\n",
    "    train_acc_list1.append(train_acc)\n",
    "    test_loss, test_acc = session.run([m2_loss,m2_acc_op],feed_dict={x:data.test.images,y:data.test.labels})\n",
    "    test_loss_list1.append(test_loss)\n",
    "    test_acc_list1.append(test_acc)\n",
    "    msg = \"Epoch: {0:>6}, Training Loss: {1:>1.6}, Training Accuracy: {2:>6.1%}, Test Loss: {3:>1.6}, Test Accuracy: {4:>6.1%}\"\n",
    "    print(msg.format(i, train_loss, train_acc, test_loss, test_acc))\n",
    "    \n",
    "m2_w_conv1,m2_w_fc1,m2_w_fc_out = session.run([m2_weights_conv1,m2_weights_fc1,m2_weights_fc_out])\n",
    "m2_b_conv1,m2_b_fc1,m2_b_fc_out = session.run([m2_bias_conv1,m2_bias_fc1,m2_bias_fc_out])"
   ]
  },
  {
   "cell_type": "code",
   "execution_count": 48,
   "metadata": {},
   "outputs": [
    {
     "data": {
      "text/plain": [
       "(4, 4, 1, 4)"
      ]
     },
     "execution_count": 48,
     "metadata": {},
     "output_type": "execute_result"
    }
   ],
   "source": [
    "m2_w_conv1.shape"
   ]
  },
  {
   "cell_type": "markdown",
   "metadata": {},
   "source": [
    "### Run Model 3"
   ]
  },
  {
   "cell_type": "code",
   "execution_count": 49,
   "metadata": {},
   "outputs": [],
   "source": [
    "tf.reset_default_graph()\n",
    "x = tf.placeholder(tf.float32, shape=[None, img_flatten], name='x')\n",
    "input_x = tf.reshape(x,[-1,img_size,img_size,1])\n",
    "y = tf.placeholder(tf.float32, shape=[None, num_classes], name='y')\n",
    "y_cls = tf.argmax(y,dimension=1)\n",
    "\n",
    "train_loss_list = []\n",
    "test_loss_list = []\n",
    "train_acc_list = []\n",
    "test_acc_list = []\n",
    "\n",
    "m3_w_conv1 = tf.placeholder(tf.float32,shape=[4,4,1,4])\n",
    "m3_b_conv1 = tf.placeholder(tf.float32,shape=[4])\n",
    "#m3_w_conv2 = tf.placeholder(tf.float32,shape=[5,5,8,16])\n",
    "#m3_b_conv2 = tf.placeholder(tf.float32,shape=[16])\n",
    "m3_w_fc1 = tf.placeholder(tf.float32,shape=[784,128])\n",
    "m3_b_fc1 = tf.placeholder(tf.float32,shape=[128])\n",
    "m3_w_fc_out = tf.placeholder(tf.float32,shape=[128,10])\n",
    "m3_b_fc_out = tf.placeholder(tf.float32,shape=[10])\n",
    "\n",
    "m3_conv1 = tf.nn.conv2d(input_x,filters=m3_w_conv1,padding='SAME')\n",
    "m3_conv1 = tf.nn.relu(tf.nn.bias_add(m3_conv1,m3_b_conv1))\n",
    "m3_pool1 = tf.nn.max_pool2d(m3_conv1,2,2,'SAME')\n",
    "#m3_conv2 = tf.nn.conv2d(m3_pool1,m3_w_conv2,padding='SAME')\n",
    "#m3_conv2 = tf.nn.relu(tf.nn.bias_add(m3_conv2,m3_b_conv2))\n",
    "#m3_pool2 = tf.nn.max_pool2d(m3_conv2,2,2,'SAME')\n",
    "m3_flat1 = tf.layers.flatten(m3_pool1)\n",
    "m3_fc1 = tf.nn.relu(tf.add(tf.matmul(m3_flat1,m3_w_fc1),m3_b_fc1))\n",
    "m3_logits = tf.add(tf.matmul(m3_fc1,m3_w_fc_out),m3_b_fc_out)\n",
    "\n",
    "m3_cross_entropy = tf.nn.softmax_cross_entropy_with_logits(labels=y,logits=m3_logits)\n",
    "m3_loss = tf.reduce_mean(m3_cross_entropy)\n",
    "\n",
    "# Accuracy\n",
    "m3_softmax = tf.nn.softmax(logits=m3_logits)\n",
    "m3_pred_op = tf.argmax(m3_softmax,dimension=1)\n",
    "m3_acc_op = tf.reduce_mean(tf.cast(tf.equal(m3_pred_op, y_cls), tf.float32))\n",
    "\n",
    "session = tf.Session()\n",
    "for alpha in np.arange(-1,2,0.05):\n",
    "    w_conv1 = (1-alpha)*m1_w_conv1 + alpha*m2_w_conv1\n",
    "    #w_conv2 = (1-alpha)*m1_w_conv2 + alpha*m2_w_conv2\n",
    "    w_fc1 = (1-alpha)*m1_w_fc1 + alpha*m2_w_fc1\n",
    "    w_fc_out = (1-alpha)*m1_w_fc_out + alpha*m2_w_fc_out\n",
    "    \n",
    "    b_conv1 = (1-alpha)*m1_b_conv1 + alpha*m2_b_conv1\n",
    "    #b_conv2 = (1-alpha)*m1_b_conv2 + alpha*m2_b_conv2\n",
    "    b_fc1 = (1-alpha)*m1_b_fc1 + alpha*m2_b_fc1\n",
    "    b_fc_out = (1-alpha)*m1_b_fc_out + alpha*m2_b_fc_out\n",
    "    \n",
    "    train_loss,train_acc = session.run([m3_loss,m3_acc_op],feed_dict={x:data.train.images,y:data.train.labels,m3_w_conv1:w_conv1, m3_w_fc1:w_fc1, m3_w_fc_out:w_fc_out,m3_b_conv1:b_conv1,m3_b_fc1:b_fc1,m3_b_fc_out:b_fc_out})\n",
    "    test_loss,test_acc = session.run([m3_loss,m3_acc_op],feed_dict={x:data.test.images,y:data.test.labels,m3_w_conv1:w_conv1, m3_w_fc1:w_fc1, m3_w_fc_out:w_fc_out,m3_b_conv1:b_conv1,m3_b_fc1:b_fc1,m3_b_fc_out:b_fc_out})\n",
    "    train_loss_list.append(train_loss)\n",
    "    test_loss_list.append(test_loss)\n",
    "    train_acc_list.append(train_acc)\n",
    "    test_acc_list.append(test_acc)"
   ]
  },
  {
   "cell_type": "markdown",
   "metadata": {},
   "source": [
    "### Result"
   ]
  },
  {
   "cell_type": "code",
   "execution_count": 51,
   "metadata": {},
   "outputs": [
    {
     "data": {
      "image/png": "[encoded data removed]",
      "text/plain": [
       "<Figure size 432x288 with 2 Axes>"
      ]
     },
     "metadata": {
      "needs_background": "light"
     },
     "output_type": "display_data"
    }
   ],
   "source": [
    "fig,axs1 = plt.subplots()\n",
    "fig.suptitle('Learning Rate: 0.1 vs 0.0001')\n",
    "alpha_list = np.arange(-1,2,0.05)\n",
    "axs1.plot(alpha_list,test_acc_list,'r')\n",
    "axs1.plot(alpha_list,train_acc_list,'r--')\n",
    "axs1.legend(['test','train'])\n",
    "axs1.set_ylabel('Accuracy')\n",
    "axs1.yaxis.label.set_color('red')\n",
    "axs2 = axs1.twinx()\n",
    "axs2.plot(alpha_list,test_loss_list,'b')\n",
    "axs2.plot(alpha_list,train_loss_list,'b--')\n",
    "axs2.set_yscale('log')\n",
    "axs2.set_ylabel('Cross Entropy Loss (Log Scale)')\n",
    "axs2.yaxis.label.set_color('blue')"
   ]
  }
 ],
 "metadata": {
  "kernelspec": {
   "display_name": "tensorflow",
   "language": "python",
   "name": "tensorflow"
  },
  "language_info": {
   "codemirror_mode": {
    "name": "ipython",
    "version": 3
   },
   "file_extension": ".py",
   "mimetype": "text/x-python",
   "name": "python",
   "nbconvert_exporter": "python",
   "pygments_lexer": "ipython3",
   "version": "3.6.2"
  }
 },
 "nbformat": 4,
 "nbformat_minor": 2
}
