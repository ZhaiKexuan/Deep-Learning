{
 "cells": [
  {
   "cell_type": "markdown",
   "metadata": {},
   "source": [
    "# CPSC8810_HW1-2 Optimization"
   ]
  },
  {
   "cell_type": "markdown",
   "metadata": {},
   "source": [
    "## Import"
   ]
  },
  {
   "cell_type": "code",
   "execution_count": 1,
   "metadata": {},
   "outputs": [],
   "source": [
    "%matplotlib inline\n",
    "import matplotlib.pyplot as plt\n",
    "import tensorflow as tf\n",
    "import numpy as np\n",
    "import math\n",
    "from sklearn.decomposition import PCA\n",
    "tf.logging.set_verbosity(tf.logging.ERROR)  # or any {DEBUG, INFO, WARN, ERROR, FATAL}b"
   ]
  },
  {
   "cell_type": "code",
   "execution_count": 2,
   "metadata": {},
   "outputs": [
    {
     "data": {
      "text/plain": [
       "'1.15.0'"
      ]
     },
     "execution_count": 2,
     "metadata": {},
     "output_type": "execute_result"
    }
   ],
   "source": [
    "tf.__version__"
   ]
  },
  {
   "cell_type": "markdown",
   "metadata": {},
   "source": [
    "## Simulated Function\n",
    "#### f(x) = f(x) = sgn(sin(5πx))"
   ]
  },
  {
   "cell_type": "code",
   "execution_count": 3,
   "metadata": {},
   "outputs": [
    {
     "data": {
      "image/png": "[encoded data removed]",
      "text/plain": [
       "<Figure size 432x288 with 1 Axes>"
      ]
     },
     "metadata": {
      "needs_background": "light"
     },
     "output_type": "display_data"
    }
   ],
   "source": [
    "X = np.arange(0.0001,1,0.0001)\n",
    "X_train = X.reshape(-1,1).astype(np.float32)\n",
    "Y = np.sign(np.sin(5*np.pi*X))\n",
    "Y_train = Y.reshape(-1,1).astype(np.float32)\n",
    "plt.plot(X,Y)\n",
    "plt.xlabel('x')\n",
    "plt.ylabel('f(x)')\n",
    "plt.title('f(x) = f(x) = f(x) = sgn(sin(5πx))');"
   ]
  },
  {
   "cell_type": "markdown",
   "metadata": {},
   "source": [
    "## Placeholder variables"
   ]
  },
  {
   "cell_type": "code",
   "execution_count": 4,
   "metadata": {},
   "outputs": [],
   "source": [
    "tf.reset_default_graph()\n",
    "tf.random.set_random_seed(3)\n",
    "np.random.seed(1)\n",
    "input_x = tf.placeholder(tf.float32,shape=[None,1])\n",
    "output_y = tf.placeholder(tf.float32,shape=[None,1])"
   ]
  },
  {
   "cell_type": "markdown",
   "metadata": {},
   "source": [
    "## Training Model"
   ]
  },
  {
   "cell_type": "code",
   "execution_count": 5,
   "metadata": {},
   "outputs": [],
   "source": [
    "# Model 1 neural network layers\n",
    "h1 = tf.layers.dense(inputs=input_x, units=5, activation=tf.nn.relu, name='h1')   # Input layer\n",
    "h2 = tf.layers.dense(inputs=h1, units=10, activation=tf.nn.relu, name='h2')        # hidden layer\n",
    "h3 = tf.layers.dense(inputs=h2, units=15, activation=tf.nn.relu, name='h3')        # hidden layer\n",
    "h4 = tf.layers.dense(inputs=h3, units=10, activation=tf.nn.relu, name='h4')        # hidden layer\n",
    "h5 = tf.layers.dense(inputs=h3, units=5, activation=tf.nn.relu, name='h5')        # hidden layer\n",
    "output = tf.layers.dense(inputs=h4, units=1, name='output')    "
   ]
  },
  {
   "cell_type": "markdown",
   "metadata": {},
   "source": [
    "## Loss Function"
   ]
  },
  {
   "cell_type": "code",
   "execution_count": 6,
   "metadata": {},
   "outputs": [],
   "source": [
    "loss = tf.losses.mean_squared_error(output_y, output)   # compute cost\n",
    "optimizer = tf.train.AdamOptimizer(learning_rate=0.001)\n",
    "train_op = optimizer.minimize(loss)"
   ]
  },
  {
   "cell_type": "markdown",
   "metadata": {},
   "source": [
    "## Get weight"
   ]
  },
  {
   "cell_type": "code",
   "execution_count": 7,
   "metadata": {},
   "outputs": [],
   "source": [
    "def get_weights_variable(layer_name):\n",
    "    # Retrieve an existing variable named 'kernel' in the scope\n",
    "    # with the given layer_name.\n",
    "    # This is awkward because the TensorFlow function was\n",
    "    # really intended for another purpose.\n",
    "    with tf.variable_scope(layer_name, reuse=True):\n",
    "        variable = tf.get_variable('kernel')\n",
    "    return variable\n",
    "\n",
    "w_h1 = tf.reshape(get_weights_variable('h1'),[1,-1])\n",
    "w_h2 = tf.reshape(get_weights_variable('h2'),[1,-1])\n",
    "w_h3 = tf.reshape(get_weights_variable('h3'),[1,-1])\n",
    "w_h4 = tf.reshape(get_weights_variable('h4'),[1,-1])\n",
    "w_h5 = tf.reshape(get_weights_variable('h5'),[1,-1])\n",
    "w_out = tf.reshape(get_weights_variable('output'),[1,-1])\n",
    "w_model = tf.concat([w_h1,w_h2,w_h3,w_h4,w_h5,w_out],axis=1)"
   ]
  },
  {
   "cell_type": "code",
   "execution_count": 8,
   "metadata": {},
   "outputs": [
    {
     "name": "stdout",
     "output_type": "stream",
     "text": [
      "Tensor(\"gradients_1/output/MatMul_grad/MatMul_1:0\", shape=(10, 1), dtype=float32)\n",
      "Tensor(\"norm/Squeeze:0\", shape=(), dtype=float32)\n",
      "Tensor(\"Sum:0\", shape=(10, 1, 1), dtype=float32)\n",
      "Tensor(\"truediv:0\", shape=(), dtype=float64)\n"
     ]
    }
   ],
   "source": [
    "#grad = opt.compute_gradients(loss, weights_fc_out)[0]\n",
    "grads = tf.gradients(loss, get_weights_variable('output'))[0]\n",
    "grads_norm = tf.norm(grads)\n",
    "print(grads)\n",
    "print(grads_norm)\n",
    "\n",
    "hessian = tf.reduce_sum(tf.hessians(loss, get_weights_variable('output'))[0], axis = 2)\n",
    "print(hessian)\n",
    "\n",
    "eigenvalue = tf.linalg.eigvalsh(hessian)\n",
    "minimal_ratio = tf.divide(tf.count_nonzero(tf.greater(eigenvalue, 0.)),eigenvalue.shape[0])\n",
    "print(minimal_ratio)"
   ]
  },
  {
   "cell_type": "markdown",
   "metadata": {},
   "source": [
    "## Training using normal loss function"
   ]
  },
  {
   "cell_type": "code",
   "execution_count": 9,
   "metadata": {},
   "outputs": [
    {
     "name": "stdout",
     "output_type": "stream",
     "text": [
      "Epoch:  0 Loss:  1.0255557\n",
      "Epoch:  50 Loss:  0.9501314\n",
      "Epoch:  100 Loss:  0.8894588\n",
      "Epoch:  150 Loss:  0.82174665\n",
      "Epoch:  200 Loss:  0.75039494\n",
      "Epoch:  250 Loss:  0.6945016\n",
      "Epoch:  300 Loss:  0.6597765\n",
      "Epoch:  350 Loss:  0.63730407\n",
      "Epoch:  400 Loss:  0.6191273\n",
      "Epoch:  450 Loss:  0.6050194\n",
      "Epoch:  500 Loss:  0.5961912\n",
      "Epoch:  550 Loss:  0.5902309\n",
      "Epoch:  600 Loss:  0.5840034\n",
      "Epoch:  650 Loss:  0.5781007\n",
      "Epoch:  700 Loss:  0.5729297\n",
      "Epoch:  750 Loss:  0.5689718\n",
      "Epoch:  800 Loss:  0.56589115\n",
      "Epoch:  850 Loss:  0.56325567\n",
      "Epoch:  900 Loss:  0.5608922\n",
      "Epoch:  950 Loss:  0.5587121\n"
     ]
    }
   ],
   "source": [
    "sess = tf.Session() \n",
    "sess.run(tf.global_variables_initializer())         # initialize var in graph\n",
    "EPOCH = 1000\n",
    "\n",
    "loss_list = []\n",
    "grads_norm_list = []\n",
    "min_ratio_list = []\n",
    "for i in range(EPOCH):\n",
    "    # train and net output\n",
    "    _, l, pred, grad_norm,min_ratio = sess.run([train_op, loss, output,grads_norm,minimal_ratio], feed_dict={input_x: X_train, output_y: Y_train})\n",
    "    loss_list.append(l)\n",
    "    grads_norm_list.append(grad_norm)\n",
    "    min_ratio_list.append(min_ratio)\n",
    "    if i%50 == 0:\n",
    "        print(\"Epoch: \",i,\"Loss: \",l)"
   ]
  },
  {
   "attachments": {},
   "cell_type": "markdown",
   "metadata": {},
   "source": [
    "## Observe Gradient Norm During Training"
   ]
  },
  {
   "cell_type": "code",
   "execution_count": 16,
   "metadata": {},
   "outputs": [
    {
     "data": {
      "image/png": "[encoded data removed]",
      "text/plain": [
       "<Figure size 432x288 with 1 Axes>"
      ]
     },
     "metadata": {
      "needs_background": "light"
     },
     "output_type": "display_data"
    }
   ],
   "source": [
    "plt.plot(grads_norm_list)\n",
    "plt.title('Plot Grad Norm')\n",
    "plt.ylabel('grad norm')\n",
    "plt.xlabel('Epoch')\n",
    "plt.show()"
   ]
  },
  {
   "cell_type": "markdown",
   "metadata": {},
   "source": [
    "## Plot Loss"
   ]
  },
  {
   "cell_type": "code",
   "execution_count": 17,
   "metadata": {},
   "outputs": [
    {
     "data": {
      "image/png": "[encoded data removed]",
      "text/plain": [
       "<Figure size 432x288 with 1 Axes>"
      ]
     },
     "metadata": {
      "needs_background": "light"
     },
     "output_type": "display_data"
    }
   ],
   "source": [
    "plt.plot(loss_list)\n",
    "plt.title('Plot Loss')\n",
    "plt.ylabel('Loss')\n",
    "plt.xlabel('Epoch')\n",
    "plt.show()"
   ]
  },
  {
   "cell_type": "markdown",
   "metadata": {},
   "source": [
    "## Plot Minimal Ratio"
   ]
  },
  {
   "cell_type": "code",
   "execution_count": 18,
   "metadata": {},
   "outputs": [
    {
     "data": {
      "text/plain": [
       "Text(0.5, 1.0, 'Minimal Ratio vs Loss')"
      ]
     },
     "execution_count": 18,
     "metadata": {},
     "output_type": "execute_result"
    },
    {
     "data": {
      "image/png": "[encoded data removed]",
      "text/plain": [
       "<Figure size 432x288 with 1 Axes>"
      ]
     },
     "metadata": {
      "needs_background": "light"
     },
     "output_type": "display_data"
    }
   ],
   "source": [
    "plt.pause(0.1)\n",
    "plt.scatter(min_ratio_list,loss_list)\n",
    "plt.xlabel('Minimal Ratio')\n",
    "plt.ylabel('Loss');\n",
    "plt.title('Minimal Ratio vs Loss')"
   ]
  },
  {
   "cell_type": "markdown",
   "metadata": {},
   "source": [
    "## Training using normal loss function"
   ]
  },
  {
   "cell_type": "code",
   "execution_count": 11,
   "metadata": {},
   "outputs": [],
   "source": [
    "grad_norm_train_op = optimizer.minimize(grads_norm)"
   ]
  },
  {
   "cell_type": "code",
   "execution_count": 12,
   "metadata": {},
   "outputs": [
    {
     "name": "stdout",
     "output_type": "stream",
     "text": [
      "Epoch:  0 Loss:  0.5567524 Minimal Ratio:  0.4\n",
      "Epoch:  10 Loss:  0.64831775 Minimal Ratio:  0.30000000000000004\n",
      "Epoch:  20 Loss:  0.710173 Minimal Ratio:  0.30000000000000004\n",
      "Epoch:  30 Loss:  0.78141224 Minimal Ratio:  0.30000000000000004\n",
      "Epoch:  40 Loss:  0.76865834 Minimal Ratio:  0.30000000000000004\n",
      "Epoch:  50 Loss:  0.8055626 Minimal Ratio:  0.30000000000000004\n",
      "Epoch:  60 Loss:  0.8029638 Minimal Ratio:  0.30000000000000004\n",
      "Epoch:  70 Loss:  0.82738364 Minimal Ratio:  0.30000000000000004\n",
      "Epoch:  80 Loss:  0.82216173 Minimal Ratio:  0.30000000000000004\n",
      "Epoch:  90 Loss:  0.83768785 Minimal Ratio:  0.30000000000000004\n"
     ]
    }
   ],
   "source": [
    "EPOCH = 100\n",
    "grads_loss_list = []\n",
    "min_ratio_list2 = []\n",
    "for i in range(EPOCH):\n",
    "    # train and net output\n",
    "    _, l, min_ratio = sess.run([grad_norm_train_op, loss, minimal_ratio], feed_dict={input_x: X_train, output_y: Y_train})\n",
    "    min_ratio_list2.append(min_ratio)\n",
    "    grads_loss_list.append(l)\n",
    "    if i%10 == 0:\n",
    "        print(\"Epoch: \",i,\"Loss: \",l,\"Minimal Ratio: \",min_ratio)"
   ]
  },
  {
   "cell_type": "code",
   "execution_count": 13,
   "metadata": {},
   "outputs": [
    {
     "data": {
      "text/plain": [
       "Text(0, 0.5, 'Loss')"
      ]
     },
     "execution_count": 13,
     "metadata": {},
     "output_type": "execute_result"
    },
    {
     "data": {
      "image/png": "[encoded data removed]",
      "text/plain": [
       "<Figure size 432x288 with 1 Axes>"
      ]
     },
     "metadata": {
      "needs_background": "light"
     },
     "output_type": "display_data"
    }
   ],
   "source": [
    "plt.scatter(min_ratio_list2,grads_loss_list)\n",
    "plt.xlabel('Minimal Ratio')\n",
    "plt.ylabel('Loss')"
   ]
  }
 ],
 "metadata": {
  "kernelspec": {
   "display_name": "tensorflow",
   "language": "python",
   "name": "tensorflow"
  },
  "language_info": {
   "codemirror_mode": {
    "name": "ipython",
    "version": 3
   },
   "file_extension": ".py",
   "mimetype": "text/x-python",
   "name": "python",
   "nbconvert_exporter": "python",
   "pygments_lexer": "ipython3",
   "version": "3.6.2"
  }
 },
 "nbformat": 4,
 "nbformat_minor": 2
}
